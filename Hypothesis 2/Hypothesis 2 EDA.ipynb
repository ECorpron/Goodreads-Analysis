{
 "cells": [
  {
   "cell_type": "markdown",
   "metadata": {},
   "source": [
    "#### Authors can be classified based on years of experience or number of books published. Highly experienced authors can definitely be expected to have larger rating counts. From a publisher point of view, it would be useful to assess if publishing works of new authors (who typically have 0-3 works published) would look promising."
   ]
  },
  {
   "cell_type": "code",
   "execution_count": 1,
   "metadata": {},
   "outputs": [],
   "source": [
    "import pandas as pd\n",
    "import numpy as np\n",
    "import seaborn as sns\n",
    "import matplotlib.pyplot as plt"
   ]
  },
  {
   "cell_type": "code",
   "execution_count": 2,
   "metadata": {},
   "outputs": [],
   "source": [
    "master_data = pd.read_csv('./04 Intermediate Files/master_dataset.csv')"
   ]
  },
  {
   "cell_type": "code",
   "execution_count": 3,
   "metadata": {},
   "outputs": [
    {
     "data": {
      "text/plain": [
       "Index(['Unnamed: 0', 'book', 'author', 'rating_count', 'page_count', 'genre',\n",
       "       'is_volume', 'author_work_count', 'author_sex', 'author_avg_rating',\n",
       "       'author_rating_count'],\n",
       "      dtype='object')"
      ]
     },
     "execution_count": 3,
     "metadata": {},
     "output_type": "execute_result"
    }
   ],
   "source": [
    "master_data.columns"
   ]
  },
  {
   "cell_type": "code",
   "execution_count": 4,
   "metadata": {},
   "outputs": [],
   "source": [
    "hypo2 = master_data[['author','author_sex','author_work_count','rating_count']].groupby(['author','author_sex']).agg({'author_work_count':'max',\n",
    "                                                                                          'rating_count':'mean'})"
   ]
  },
  {
   "cell_type": "code",
   "execution_count": 5,
   "metadata": {},
   "outputs": [
    {
     "data": {
      "text/html": [
       "<div>\n",
       "<style scoped>\n",
       "    .dataframe tbody tr th:only-of-type {\n",
       "        vertical-align: middle;\n",
       "    }\n",
       "\n",
       "    .dataframe tbody tr th {\n",
       "        vertical-align: top;\n",
       "    }\n",
       "\n",
       "    .dataframe thead th {\n",
       "        text-align: right;\n",
       "    }\n",
       "</style>\n",
       "<table border=\"1\" class=\"dataframe\">\n",
       "  <thead>\n",
       "    <tr style=\"text-align: right;\">\n",
       "      <th></th>\n",
       "      <th></th>\n",
       "      <th>author_work_count</th>\n",
       "      <th>rating_count</th>\n",
       "    </tr>\n",
       "    <tr>\n",
       "      <th>author</th>\n",
       "      <th>author_sex</th>\n",
       "      <th></th>\n",
       "      <th></th>\n",
       "    </tr>\n",
       "  </thead>\n",
       "  <tbody>\n",
       "    <tr>\n",
       "      <th>50 cent</th>\n",
       "      <th>male</th>\n",
       "      <td>29</td>\n",
       "      <td>7329.000000</td>\n",
       "    </tr>\n",
       "    <tr>\n",
       "      <th>a. kirk</th>\n",
       "      <th>female</th>\n",
       "      <td>13</td>\n",
       "      <td>5272.666667</td>\n",
       "    </tr>\n",
       "    <tr>\n",
       "      <th>a. manette ansay</th>\n",
       "      <th>female</th>\n",
       "      <td>8</td>\n",
       "      <td>14418.000000</td>\n",
       "    </tr>\n",
       "    <tr>\n",
       "      <th>a. meredith walters</th>\n",
       "      <th>female</th>\n",
       "      <td>35</td>\n",
       "      <td>13256.500000</td>\n",
       "    </tr>\n",
       "    <tr>\n",
       "      <th>a. merritt</th>\n",
       "      <th>male</th>\n",
       "      <td>172</td>\n",
       "      <td>864.000000</td>\n",
       "    </tr>\n",
       "  </tbody>\n",
       "</table>\n",
       "</div>"
      ],
      "text/plain": [
       "                                author_work_count  rating_count\n",
       "author              author_sex                                 \n",
       "50 cent             male                       29   7329.000000\n",
       "a. kirk             female                     13   5272.666667\n",
       "a. manette ansay    female                      8  14418.000000\n",
       "a. meredith walters female                     35  13256.500000\n",
       "a. merritt          male                      172    864.000000"
      ]
     },
     "execution_count": 5,
     "metadata": {},
     "output_type": "execute_result"
    }
   ],
   "source": [
    "hypo2.head(5)"
   ]
  },
  {
   "cell_type": "code",
   "execution_count": 6,
   "metadata": {},
   "outputs": [
    {
     "data": {
      "text/plain": [
       "count    12724.000000\n",
       "mean        72.610893\n",
       "std        191.226178\n",
       "min          0.000000\n",
       "25%         10.000000\n",
       "50%         26.000000\n",
       "75%         62.000000\n",
       "max       5204.000000\n",
       "Name: author_work_count, dtype: float64"
      ]
     },
     "execution_count": 6,
     "metadata": {},
     "output_type": "execute_result"
    }
   ],
   "source": [
    "hypo2['author_work_count'].describe()"
   ]
  },
  {
   "cell_type": "code",
   "execution_count": 7,
   "metadata": {},
   "outputs": [
    {
     "data": {
      "text/plain": [
       "<AxesSubplot:xlabel='author_work_count', ylabel='Count'>"
      ]
     },
     "execution_count": 7,
     "metadata": {},
     "output_type": "execute_result"
    },
    {
     "data": {
      "image/png": "[encoded data removed]",
      "text/plain": [
       "<Figure size 432x288 with 1 Axes>"
      ]
     },
     "metadata": {
      "needs_background": "light"
     },
     "output_type": "display_data"
    }
   ],
   "source": [
    "sns.histplot(data = hypo2, x = 'author_work_count')"
   ]
  },
  {
   "cell_type": "code",
   "execution_count": 8,
   "metadata": {},
   "outputs": [],
   "source": [
    "hypo2['author_work_count'] = hypo2['author_work_count']+1"
   ]
  },
  {
   "cell_type": "code",
   "execution_count": 9,
   "metadata": {},
   "outputs": [
    {
     "data": {
      "text/plain": [
       "count    12724.000000\n",
       "mean        73.610893\n",
       "std        191.226178\n",
       "min          1.000000\n",
       "25%         11.000000\n",
       "50%         27.000000\n",
       "75%         63.000000\n",
       "max       5205.000000\n",
       "Name: author_work_count, dtype: float64"
      ]
     },
     "execution_count": 9,
     "metadata": {},
     "output_type": "execute_result"
    }
   ],
   "source": [
    "hypo2['author_work_count'].describe()"
   ]
  },
  {
   "cell_type": "code",
   "execution_count": 10,
   "metadata": {},
   "outputs": [],
   "source": [
    "hypo2['log_author_work_count'] = np.log10(hypo2['author_work_count'])"
   ]
  },
  {
   "cell_type": "code",
   "execution_count": 11,
   "metadata": {},
   "outputs": [
    {
     "data": {
      "text/plain": [
       "<AxesSubplot:xlabel='log_author_work_count', ylabel='Count'>"
      ]
     },
     "execution_count": 11,
     "metadata": {},
     "output_type": "execute_result"
    },
    {
     "data": {
      "image/png": "[encoded data removed]",
      "text/plain": [
       "<Figure size 432x288 with 1 Axes>"
      ]
     },
     "metadata": {
      "needs_background": "light"
     },
     "output_type": "display_data"
    }
   ],
   "source": [
    "sns.histplot(data = hypo2, x = 'log_author_work_count')"
   ]
  },
  {
   "cell_type": "code",
   "execution_count": 12,
   "metadata": {},
   "outputs": [],
   "source": [
    "def classify_work_count(x):\n",
    "    if x <= 1.0:\n",
    "        return('newbie')\n",
    "    elif x > 1.0 and x < 1.5:\n",
    "        return('budding')\n",
    "    elif x >= 1.5 and x <= 2.0:\n",
    "        return('experienced')\n",
    "    else:\n",
    "        return('legendary')\n",
    "\n",
    "hypo2['bins'] = hypo2['log_author_work_count'].apply(func = lambda x: classify_work_count(x))"
   ]
  },
  {
   "cell_type": "code",
   "execution_count": 13,
   "metadata": {},
   "outputs": [
    {
     "data": {
      "text/plain": [
       "author               author_sex\n",
       "50 cent              male              budding\n",
       "a. kirk              female            budding\n",
       "a. manette ansay     female             newbie\n",
       "a. meredith walters  female        experienced\n",
       "a. merritt           male            legendary\n",
       "                                      ...     \n",
       "zoya pirzad          female            budding\n",
       "zoya tessi           female             newbie\n",
       "zuri day             female        experienced\n",
       "zygmunt bauman       male            legendary\n",
       "zyranna zateli       female            budding\n",
       "Name: bins, Length: 12724, dtype: object"
      ]
     },
     "execution_count": 13,
     "metadata": {},
     "output_type": "execute_result"
    }
   ],
   "source": [
    "hypo2['bins']"
   ]
  },
  {
   "cell_type": "code",
   "execution_count": 14,
   "metadata": {},
   "outputs": [],
   "source": [
    "hypo2.to_csv('hypothesis2.csv')"
   ]
  },
  {
   "cell_type": "code",
   "execution_count": null,
   "metadata": {},
   "outputs": [],
   "source": []
  }
 ],
 "metadata": {
  "kernelspec": {
   "display_name": "Python 3",
   "language": "python",
   "name": "python3"
  },
  "language_info": {
   "codemirror_mode": {
    "name": "ipython",
    "version": 3
   },
   "file_extension": ".py",
   "mimetype": "text/x-python",
   "name": "python",
   "nbconvert_exporter": "python",
   "pygments_lexer": "ipython3",
   "version": "3.8.5"
  }
 },
 "nbformat": 4,
 "nbformat_minor": 4
}
