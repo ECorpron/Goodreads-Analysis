{
 "cells": [
  {
   "cell_type": "markdown",
   "id": "e4a85ff5",
   "metadata": {},
   "source": [
    "## Testing"
   ]
  },
  {
   "cell_type": "code",
   "execution_count": 235,
   "id": "5b1a21fc",
   "metadata": {},
   "outputs": [],
   "source": [
    "import pandas as pd\n",
    "import numpy as np\n",
    "import math\n",
    "import matplotlib.pyplot as plt\n",
    "import seaborn as sns\n",
    "import scipy.stats\n",
    "import statsmodels.stats"
   ]
  },
  {
   "cell_type": "code",
   "execution_count": 236,
   "id": "d7a3e80d",
   "metadata": {},
   "outputs": [
    {
     "name": "stdout",
     "output_type": "stream",
     "text": [
      "<class 'pandas.core.frame.DataFrame'>\n",
      "RangeIndex: 34138 entries, 0 to 34137\n",
      "Data columns (total 17 columns):\n",
      " #   Column                  Non-Null Count  Dtype  \n",
      "---  ------                  --------------  -----  \n",
      " 0   book_id                 34138 non-null  int64  \n",
      " 1   book_name               34138 non-null  object \n",
      " 2   genre                   34138 non-null  object \n",
      " 3   page_count              34138 non-null  int64  \n",
      " 4   is_volume               34138 non-null  object \n",
      " 5   rating_count            34138 non-null  int64  \n",
      " 6   author_name             34138 non-null  object \n",
      " 7   author_sex              34138 non-null  object \n",
      " 8   author_work_count       34138 non-null  int64  \n",
      " 9   author_fan_count        34138 non-null  int64  \n",
      " 10  author_rating_count     34138 non-null  int64  \n",
      " 11  author_review_count     34138 non-null  int64  \n",
      " 12  author_avg_rating       34138 non-null  float64\n",
      " 13  log2_author_work_count  34138 non-null  float64\n",
      " 14  author_exp              34138 non-null  object \n",
      " 15  book_size               34138 non-null  object \n",
      " 16  genre_category          34138 non-null  object \n",
      "dtypes: float64(2), int64(7), object(8)\n",
      "memory usage: 4.4+ MB\n"
     ]
    }
   ],
   "source": [
    "data = pd.read_csv('C:\\\\Users\\\\juhic\\\\OneDrive\\\\Desktop\\\\master_dataset.csv')\n",
    "data.drop(axis = 1, columns = 'Unnamed: 0', inplace = True)\n",
    "data.info()"
   ]
  },
  {
   "cell_type": "markdown",
   "id": "edf0bf4f",
   "metadata": {},
   "source": [
    "#### Type Conversions"
   ]
  },
  {
   "cell_type": "code",
   "execution_count": 237,
   "id": "d210837d",
   "metadata": {},
   "outputs": [
    {
     "name": "stdout",
     "output_type": "stream",
     "text": [
      "<class 'pandas.core.frame.DataFrame'>\n",
      "RangeIndex: 34138 entries, 0 to 34137\n",
      "Data columns (total 17 columns):\n",
      " #   Column                  Non-Null Count  Dtype   \n",
      "---  ------                  --------------  -----   \n",
      " 0   book_id                 34138 non-null  int64   \n",
      " 1   book_name               34138 non-null  object  \n",
      " 2   genre                   34138 non-null  category\n",
      " 3   page_count              34138 non-null  int64   \n",
      " 4   is_volume               34138 non-null  category\n",
      " 5   rating_count            34138 non-null  int64   \n",
      " 6   author_name             34138 non-null  object  \n",
      " 7   author_sex              34138 non-null  category\n",
      " 8   author_work_count       34138 non-null  int64   \n",
      " 9   author_fan_count        34138 non-null  int64   \n",
      " 10  author_rating_count     34138 non-null  int64   \n",
      " 11  author_review_count     34138 non-null  int64   \n",
      " 12  author_avg_rating       34138 non-null  float64 \n",
      " 13  log2_author_work_count  34138 non-null  float64 \n",
      " 14  author_exp              34138 non-null  category\n",
      " 15  book_size               34138 non-null  category\n",
      " 16  genre_category          34138 non-null  category\n",
      "dtypes: category(6), float64(2), int64(7), object(2)\n",
      "memory usage: 3.1+ MB\n"
     ]
    }
   ],
   "source": [
    "data = data.astype({'is_volume':'category',\n",
    "                    'author_sex':'category',\n",
    "                    'author_exp':'category',\n",
    "                    'book_size':'category',\n",
    "                    'genre':'category',\n",
    "                    'genre_category':'category'})\n",
    "data.info()"
   ]
  },
  {
   "cell_type": "markdown",
   "id": "5a48265c",
   "metadata": {},
   "source": [
    "#### Hypothesis 1:\n",
    "\n",
    "The publisher is interested to understand if the rating count between male & female authors is significantly different. If so, books from the group that holds larger rating counts would be prioritized over the other."
   ]
  },
  {
   "cell_type": "code",
   "execution_count": 238,
   "id": "f82f07e8",
   "metadata": {},
   "outputs": [
    {
     "data": {
      "text/html": [
       "<div>\n",
       "<style scoped>\n",
       "    .dataframe tbody tr th:only-of-type {\n",
       "        vertical-align: middle;\n",
       "    }\n",
       "\n",
       "    .dataframe tbody tr th {\n",
       "        vertical-align: top;\n",
       "    }\n",
       "\n",
       "    .dataframe thead th {\n",
       "        text-align: right;\n",
       "    }\n",
       "</style>\n",
       "<table border=\"1\" class=\"dataframe\">\n",
       "  <thead>\n",
       "    <tr style=\"text-align: right;\">\n",
       "      <th></th>\n",
       "      <th>author_name</th>\n",
       "      <th>author_sex</th>\n",
       "      <th>rating_count</th>\n",
       "    </tr>\n",
       "  </thead>\n",
       "  <tbody>\n",
       "    <tr>\n",
       "      <th>0</th>\n",
       "      <td>kate brian</td>\n",
       "      <td>female</td>\n",
       "      <td>7199.000000</td>\n",
       "    </tr>\n",
       "    <tr>\n",
       "      <th>1</th>\n",
       "      <td>claudia gray</td>\n",
       "      <td>female</td>\n",
       "      <td>29449.700000</td>\n",
       "    </tr>\n",
       "    <tr>\n",
       "      <th>2</th>\n",
       "      <td>obert skye</td>\n",
       "      <td>male</td>\n",
       "      <td>12279.666667</td>\n",
       "    </tr>\n",
       "    <tr>\n",
       "      <th>3</th>\n",
       "      <td>meg cabot</td>\n",
       "      <td>female</td>\n",
       "      <td>26455.507937</td>\n",
       "    </tr>\n",
       "    <tr>\n",
       "      <th>4</th>\n",
       "      <td>john marsden</td>\n",
       "      <td>male</td>\n",
       "      <td>15747.100000</td>\n",
       "    </tr>\n",
       "  </tbody>\n",
       "</table>\n",
       "</div>"
      ],
      "text/plain": [
       "    author_name author_sex  rating_count\n",
       "0    kate brian     female   7199.000000\n",
       "1  claudia gray     female  29449.700000\n",
       "2    obert skye       male  12279.666667\n",
       "3     meg cabot     female  26455.507937\n",
       "4  john marsden       male  15747.100000"
      ]
     },
     "execution_count": 238,
     "metadata": {},
     "output_type": "execute_result"
    }
   ],
   "source": [
    "s0 = data[['author_name','author_sex']].drop_duplicates()\n",
    "s1 = data.groupby(by = ['author_name'], as_index = False).agg({'rating_count':'mean'})\n",
    "s2 = pd.merge(left = s0, right = s1, how = 'inner')\n",
    "s2.head()"
   ]
  },
  {
   "cell_type": "code",
   "execution_count": 330,
   "id": "c4a62ae7",
   "metadata": {},
   "outputs": [
    {
     "data": {
      "image/png": "[encoded data removed]",
      "text/plain": [
       "<Figure size 720x288 with 2 Axes>"
      ]
     },
     "metadata": {
      "needs_background": "light"
     },
     "output_type": "display_data"
    }
   ],
   "source": [
    "fig, ax = plt.subplots(nrows = 1, ncols = 2, figsize = (10,4))\n",
    "\n",
    "sex = s2.groupby(by = 'author_sex', as_index = False).agg({'author_name':'count'})\n",
    "sns.barplot(x = 'author_sex', y = 'author_name', data = sex, order = ['female','male'], palette = 'husl', ax = ax[0])\n",
    "ax[0].set_title('#Author')\n",
    "ax[0].set_ylabel('')\n",
    "ax[0].set_xlabel('')\n",
    "\n",
    "\n",
    "df_sex = s2.groupby(by = 'author_sex', as_index = False).agg({'rating_count':'mean'})\n",
    "sns.barplot(x = 'author_sex', y = 'rating_count', data = df_sex, order = ['female','male'], palette = 'husl', ax = ax[1])\n",
    "ax[1].set_title('#Average Rating Count')\n",
    "ax[1].set_ylabel('')\n",
    "ax[1].set_xlabel('')\n",
    "\n",
    "plt.show()"
   ]
  },
  {
   "cell_type": "markdown",
   "id": "5748667b",
   "metadata": {},
   "source": [
    "**Hypothesis Test 1:**\n",
    "\n",
    "<center> Null Hypothesis: Average rating counts b/w male & female authors are equal </center>\n",
    "<center> $mean \\space rating \\space count_{male} = mean \\space rating \\space count_{female} $\n",
    "\n",
    "Test:<br></br>\n",
    "Independent 2-tailed Un-equal variance Z-test to compare mean reader count among the 2 groups.\n",
    "\n",
    "\n",
    "Outcome:<br></br>\n",
    "p-value of the sample under Null Hypothesis  <br></br>\n",
    "Considering 5% level of significance,  if the p-value would be less than 5%, then we would reject the null hypothesis."
   ]
  },
  {
   "cell_type": "code",
   "execution_count": 331,
   "id": "bd140880",
   "metadata": {},
   "outputs": [
    {
     "name": "stdout",
     "output_type": "stream",
     "text": [
      "\n",
      "----- 2-tailed unequal variance Z test ------\n",
      "\n",
      "using formula\n",
      "test statistic: 0.2470395687517857, p-value:0.8048776014532185\n",
      "\n",
      "using built-in python function\n",
      "(0.24638958656882956, 0.805380666531034)\n"
     ]
    }
   ],
   "source": [
    "print(\"\\n----- 2-tailed unequal variance Z test ------\")\n",
    "\n",
    "male = s2.loc[s2['author_sex'] == 'male','rating_count']\n",
    "female = s2.loc[s2['author_sex'] == 'female','rating_count']\n",
    "\n",
    "mean_diff = male.mean() - female.mean()\n",
    "std_err = math.sqrt((male.var()/len(male)) + (female.var()/len(female)))\n",
    "\n",
    "z_score = mean_diff / std_err\n",
    "p_val = scipy.stats.norm.sf(abs(z_score))*2\n",
    "\n",
    "print(f\"\\nusing formula\")\n",
    "print(f\"test statistic: {z_score}, p-value:{p_val}\")\n",
    "\n",
    "print(f\"\\nusing built-in python function\")\n",
    "\n",
    "from statsmodels.stats import weightstats as ws\n",
    "res1 = ws.ztest(x1 = male, x2 = female)\n",
    "print(res1)"
   ]
  },
  {
   "cell_type": "markdown",
   "id": "2df218c7",
   "metadata": {},
   "source": [
    "**Conclusion:**\n",
    "\n",
    "p value > 0.05 <br></br>\n",
    "\n",
    "We do not have enough evidence to reject the Null Hypothesis that the average rating count b/w men and women authors are equal."
   ]
  },
  {
   "cell_type": "markdown",
   "id": "0738caca",
   "metadata": {},
   "source": [
    "#### Hypothesis 2\n",
    "\n",
    "The publisher is interested to know if new-comer authors (published < 16 books) have a similar rating count as an average author (published average #books). This is to help avoid the new-comer trap! (when a publisher discards the book solely reasoning that the author has no experience) <br></br>\n",
    "Work_count provides the #works (books, articles, revisions etc) of an author. It can be classified into 3 bins: \n",
    "- New-comers: < 16 (< log 4)\n",
    "- Average: 16 - 256 (log 4 - log 8)\n",
    "- Legendary: > 256 (> log 7)"
   ]
  },
  {
   "cell_type": "code",
   "execution_count": 332,
   "id": "95b9b50a",
   "metadata": {},
   "outputs": [
    {
     "data": {
      "text/html": [
       "<div>\n",
       "<style scoped>\n",
       "    .dataframe tbody tr th:only-of-type {\n",
       "        vertical-align: middle;\n",
       "    }\n",
       "\n",
       "    .dataframe tbody tr th {\n",
       "        vertical-align: top;\n",
       "    }\n",
       "\n",
       "    .dataframe thead th {\n",
       "        text-align: right;\n",
       "    }\n",
       "</style>\n",
       "<table border=\"1\" class=\"dataframe\">\n",
       "  <thead>\n",
       "    <tr style=\"text-align: right;\">\n",
       "      <th></th>\n",
       "      <th>author_name</th>\n",
       "      <th>author_exp</th>\n",
       "      <th>author_work_count</th>\n",
       "      <th>log2_author_work_count</th>\n",
       "      <th>rating_count</th>\n",
       "    </tr>\n",
       "  </thead>\n",
       "  <tbody>\n",
       "    <tr>\n",
       "      <th>0</th>\n",
       "      <td>kate brian</td>\n",
       "      <td>average</td>\n",
       "      <td>40</td>\n",
       "      <td>5.357552</td>\n",
       "      <td>7199.000000</td>\n",
       "    </tr>\n",
       "    <tr>\n",
       "      <th>1</th>\n",
       "      <td>claudia gray</td>\n",
       "      <td>average</td>\n",
       "      <td>44</td>\n",
       "      <td>5.491853</td>\n",
       "      <td>29449.700000</td>\n",
       "    </tr>\n",
       "    <tr>\n",
       "      <th>2</th>\n",
       "      <td>obert skye</td>\n",
       "      <td>average</td>\n",
       "      <td>33</td>\n",
       "      <td>5.087463</td>\n",
       "      <td>12279.666667</td>\n",
       "    </tr>\n",
       "    <tr>\n",
       "      <th>3</th>\n",
       "      <td>meg cabot</td>\n",
       "      <td>average</td>\n",
       "      <td>134</td>\n",
       "      <td>7.076816</td>\n",
       "      <td>26455.507937</td>\n",
       "    </tr>\n",
       "    <tr>\n",
       "      <th>4</th>\n",
       "      <td>john marsden</td>\n",
       "      <td>average</td>\n",
       "      <td>57</td>\n",
       "      <td>5.857981</td>\n",
       "      <td>15747.100000</td>\n",
       "    </tr>\n",
       "  </tbody>\n",
       "</table>\n",
       "</div>"
      ],
      "text/plain": [
       "    author_name author_exp  author_work_count  log2_author_work_count  \\\n",
       "0    kate brian    average                 40                5.357552   \n",
       "1  claudia gray    average                 44                5.491853   \n",
       "2    obert skye    average                 33                5.087463   \n",
       "3     meg cabot    average                134                7.076816   \n",
       "4  john marsden    average                 57                5.857981   \n",
       "\n",
       "   rating_count  \n",
       "0   7199.000000  \n",
       "1  29449.700000  \n",
       "2  12279.666667  \n",
       "3  26455.507937  \n",
       "4  15747.100000  "
      ]
     },
     "execution_count": 332,
     "metadata": {},
     "output_type": "execute_result"
    }
   ],
   "source": [
    "e0 = data[['author_name','author_exp','author_work_count','log2_author_work_count']].drop_duplicates()\n",
    "e1 = data.groupby(by = ['author_name'], as_index = False).agg({'rating_count':'mean'})\n",
    "e2 = pd.merge(left = e0, right = e1, how = 'inner')\n",
    "e2.head()"
   ]
  },
  {
   "cell_type": "code",
   "execution_count": 333,
   "id": "a72f3d73",
   "metadata": {},
   "outputs": [
    {
     "data": {
      "image/png": "[encoded data removed]",
      "text/plain": [
       "<Figure size 864x576 with 4 Axes>"
      ]
     },
     "metadata": {
      "needs_background": "light"
     },
     "output_type": "display_data"
    }
   ],
   "source": [
    "fig, ax = plt.subplots(nrows = 2, ncols = 2, figsize = (12, 8))\n",
    "\n",
    "sns.histplot(data = e2, x = 'author_work_count', color = 'grey', ax = ax[0,0])\n",
    "ax[0,0].set_title('Workcount')\n",
    "ax[0,0].set_xlabel('')\n",
    "ax[0,0].set_ylabel('')\n",
    "\n",
    "sns.histplot(data = e2, x = 'log2_author_work_count', color = 'grey', ax = ax[0,1])\n",
    "ax[0,1].set_title('Log base 2 Workcount')\n",
    "ax[0,1].set_xlabel('')\n",
    "ax[0,1].set_ylabel('')\n",
    "\n",
    "exp = e2.groupby(by = 'author_exp',as_index = False).agg({'author_name':'count'})\n",
    "sns.barplot(x = 'author_exp', y = 'author_name', data = exp, order = ['newbie', 'average', 'experienced'], ax =  ax[1,0])\n",
    "ax[1,0].set_title('#Authors')\n",
    "ax[1,0].set_xlabel('')\n",
    "ax[1,0].set_ylabel('')\n",
    "\n",
    "df_exp = e2.groupby(by = 'author_exp', as_index = False).agg({'rating_count':'mean'})\n",
    "sns.barplot(x = 'author_exp', y = 'rating_count', data = df_exp, order = ['newbie', 'average', 'experienced'], ax = ax[1,1])\n",
    "ax[1,1].set_title('#Average Rating Count')\n",
    "ax[1,1].set_ylabel('')\n",
    "ax[1,1].set_xlabel('')\n",
    "\n",
    "plt.show()"
   ]
  },
  {
   "cell_type": "code",
   "execution_count": 334,
   "id": "4a814db8",
   "metadata": {},
   "outputs": [
    {
     "name": "stdout",
     "output_type": "stream",
     "text": [
      "Mean: 4.8256 --> 28.0\n",
      "Standard Dev: 1.8514\n",
      "\n",
      "Newbie: 3.0 --> 8.0\n",
      "Average: (3.0, 7.0) --> 8.0, 102.0\n",
      "Experienced: 6.0 --> 102.0\n"
     ]
    }
   ],
   "source": [
    "mean = e2['log2_author_work_count'].mean()\n",
    "sd = np.std(e2['log2_author_work_count'])\n",
    "\n",
    "print(f\"Mean: {round(mean,4)} --> {round(pow(2, mean),0)}\")\n",
    "print(f\"Standard Dev: {round(sd,4)}\\n\")\n",
    "print(f\"Newbie: {round(mean-sd,0)} --> {round(pow(2, mean-sd),0)}\")\n",
    "print(f\"Average: {round(mean-sd,0), round(mean+sd,0)} --> {round(pow(2, mean-sd),0)}, {round(pow(2, mean+sd),0)}\")\n",
    "print(f\"Experienced: {round(mean+1.5,0)} --> {round(pow(2, mean+sd),0)}\")"
   ]
  },
  {
   "cell_type": "markdown",
   "id": "51f6dd6d",
   "metadata": {},
   "source": [
    "**Hypothesis 2:**\n",
    "\n",
    "<center> Null Hypothesis: Average rating count of all class of authors are equal. </center>\n",
    "<center> $mean \\space rating \\space count_{newbie} = mean \\space rating \\space count_{average} = mean \\space rating \\space count_{experienced}$\n",
    "\n",
    "Test: <br></br>\n",
    "Independent 2-tailed Z-test to compare mean rating count b/w New-comers and Average authors.\n",
    "\n",
    "Outcome: <br></br>\n",
    "p-value of the sample under Null Hypothesis <br></br>\n",
    "Considering 5% level of significance,  if the p-value would be less than 5%, then we would reject the null hypothesis.\n"
   ]
  },
  {
   "cell_type": "code",
   "execution_count": 335,
   "id": "059a850e",
   "metadata": {},
   "outputs": [
    {
     "name": "stdout",
     "output_type": "stream",
     "text": [
      "\n",
      "----- ANOVA ------\n",
      "                 df        sum_sq       mean_sq          F        PR(>F)\n",
      "author_exp      2.0  1.047332e+11  5.236659e+10  15.668831  1.597660e-07\n",
      "Residual    12716.0  4.249797e+13  3.342086e+09        NaN           NaN\n",
      "\n"
     ]
    }
   ],
   "source": [
    "print(\"\\n----- ANOVA ------\")\n",
    "\n",
    "import statsmodels.api as sm\n",
    "from statsmodels.formula.api import ols\n",
    "\n",
    "model = ols('rating_count ~ author_exp', data = e2).fit()\n",
    "aov_table = sm.stats.anova_lm(model, typ=1)\n",
    "print(f\"{aov_table}\\n\")"
   ]
  },
  {
   "cell_type": "markdown",
   "id": "3dbc9e66",
   "metadata": {},
   "source": [
    "**Conclusion:** p value < 0.05. We have enough evidence to reject the null hypothesis of equality of mean rating count across the 3 classes of authors."
   ]
  },
  {
   "cell_type": "markdown",
   "id": "24775d3c",
   "metadata": {},
   "source": [
    "**Pairwise Independent Z-test**"
   ]
  },
  {
   "cell_type": "code",
   "execution_count": 336,
   "id": "b2593530",
   "metadata": {},
   "outputs": [
    {
     "name": "stdout",
     "output_type": "stream",
     "text": [
      "\n",
      "using built-in python function\n",
      "\n",
      "Class ('newbie', 'average') --> (1.0160269164120097, 0.3096165691549341)\n",
      "Class ('newbie', 'experienced') --> (-3.9916319366711117, 6.562016380587855e-05)\n",
      "Class ('average', 'experienced') --> (-6.5526533241665295, 5.6523634314278905e-11)\n"
     ]
    }
   ],
   "source": [
    "from statsmodels.stats import weightstats as ws\n",
    "\n",
    "print(f\"\\nusing built-in python function\\n\")\n",
    "exp = ['newbie','average','experienced']\n",
    "for i in range(len(exp)-1):\n",
    "    for j in range(i+1, len(exp)):\n",
    "        x = e2.loc[e2['author_exp'] == exp[i], 'rating_count']\n",
    "        y = e2.loc[e2['author_exp'] == exp[j], 'rating_count']\n",
    "        res = ws.ztest(x1 = x, x2 = y, value = 0, alternative = 'two-sided', usevar = 'pooled')\n",
    "        print(f\"Class {exp[i], exp[j]} --> {res}\")"
   ]
  },
  {
   "cell_type": "markdown",
   "id": "f14b609f",
   "metadata": {},
   "source": [
    "**Conclusion:**\n",
    "\n",
    "1. Newbie v/s Average: p value > 0.05 <br></br>\n",
    "   We do not have enough evidence to reject the Null Hypothesis that the average rating count b/w newbie & average authors are equal.\n",
    "   \n",
    "2. Newbie v/s Average & Average v/s Experienced: p value < 0.05 <br></br>\n",
    "    We reject the null hypothesis that rating count across these class of authors are equal. Meaning: Experienced authors have statistically significant higher rating counts."
   ]
  },
  {
   "cell_type": "markdown",
   "id": "97711e52",
   "metadata": {},
   "source": [
    "### Combined Hypothesis: Impact of Author Sex & Experience on Rating Count"
   ]
  },
  {
   "cell_type": "code",
   "execution_count": 337,
   "id": "046e72dc",
   "metadata": {},
   "outputs": [
    {
     "data": {
      "text/html": [
       "<div>\n",
       "<style scoped>\n",
       "    .dataframe tbody tr th:only-of-type {\n",
       "        vertical-align: middle;\n",
       "    }\n",
       "\n",
       "    .dataframe tbody tr th {\n",
       "        vertical-align: top;\n",
       "    }\n",
       "\n",
       "    .dataframe thead th {\n",
       "        text-align: right;\n",
       "    }\n",
       "</style>\n",
       "<table border=\"1\" class=\"dataframe\">\n",
       "  <thead>\n",
       "    <tr style=\"text-align: right;\">\n",
       "      <th></th>\n",
       "      <th>author_name</th>\n",
       "      <th>author_exp</th>\n",
       "      <th>author_work_count</th>\n",
       "      <th>log2_author_work_count</th>\n",
       "      <th>rating_count</th>\n",
       "      <th>author_sex</th>\n",
       "    </tr>\n",
       "  </thead>\n",
       "  <tbody>\n",
       "    <tr>\n",
       "      <th>0</th>\n",
       "      <td>kate brian</td>\n",
       "      <td>average</td>\n",
       "      <td>40</td>\n",
       "      <td>5.357552</td>\n",
       "      <td>7199.000000</td>\n",
       "      <td>female</td>\n",
       "    </tr>\n",
       "    <tr>\n",
       "      <th>1</th>\n",
       "      <td>claudia gray</td>\n",
       "      <td>average</td>\n",
       "      <td>44</td>\n",
       "      <td>5.491853</td>\n",
       "      <td>29449.700000</td>\n",
       "      <td>female</td>\n",
       "    </tr>\n",
       "    <tr>\n",
       "      <th>2</th>\n",
       "      <td>obert skye</td>\n",
       "      <td>average</td>\n",
       "      <td>33</td>\n",
       "      <td>5.087463</td>\n",
       "      <td>12279.666667</td>\n",
       "      <td>male</td>\n",
       "    </tr>\n",
       "    <tr>\n",
       "      <th>3</th>\n",
       "      <td>meg cabot</td>\n",
       "      <td>average</td>\n",
       "      <td>134</td>\n",
       "      <td>7.076816</td>\n",
       "      <td>26455.507937</td>\n",
       "      <td>female</td>\n",
       "    </tr>\n",
       "    <tr>\n",
       "      <th>4</th>\n",
       "      <td>john marsden</td>\n",
       "      <td>average</td>\n",
       "      <td>57</td>\n",
       "      <td>5.857981</td>\n",
       "      <td>15747.100000</td>\n",
       "      <td>male</td>\n",
       "    </tr>\n",
       "  </tbody>\n",
       "</table>\n",
       "</div>"
      ],
      "text/plain": [
       "    author_name author_exp  author_work_count  log2_author_work_count  \\\n",
       "0    kate brian    average                 40                5.357552   \n",
       "1  claudia gray    average                 44                5.491853   \n",
       "2    obert skye    average                 33                5.087463   \n",
       "3     meg cabot    average                134                7.076816   \n",
       "4  john marsden    average                 57                5.857981   \n",
       "\n",
       "   rating_count author_sex  \n",
       "0   7199.000000     female  \n",
       "1  29449.700000     female  \n",
       "2  12279.666667       male  \n",
       "3  26455.507937     female  \n",
       "4  15747.100000       male  "
      ]
     },
     "execution_count": 337,
     "metadata": {},
     "output_type": "execute_result"
    }
   ],
   "source": [
    "c1 = pd.merge(left = e2, right = s0, how = 'inner')\n",
    "c1.head()"
   ]
  },
  {
   "cell_type": "markdown",
   "id": "de85b84a",
   "metadata": {},
   "source": [
    "#### Check the author class behaviour across sex:"
   ]
  },
  {
   "cell_type": "code",
   "execution_count": 338,
   "id": "8f28dc87",
   "metadata": {},
   "outputs": [
    {
     "name": "stdout",
     "output_type": "stream",
     "text": [
      "\n",
      "FEMALE\n",
      "Class ('average', 'newbie') (-1.0160269164120097, 0.3096165691549341)\n",
      "Class ('average', 'experienced') (-6.5526533241665295, 5.6523634314278905e-11)\n",
      "Class ('newbie', 'experienced') (-3.9916319366711117, 6.562016380587855e-05)\n",
      "\n",
      "MALE\n",
      "Class ('average', 'newbie') (-1.0160269164120097, 0.3096165691549341)\n",
      "Class ('average', 'experienced') (-6.5526533241665295, 5.6523634314278905e-11)\n",
      "Class ('newbie', 'experienced') (-3.9916319366711117, 6.562016380587855e-05)\n"
     ]
    }
   ],
   "source": [
    "for i in c1['author_sex'].unique():\n",
    "    if i == 'male':\n",
    "        print(f\"\\nMALE\")\n",
    "    else:\n",
    "        print(f\"\\nFEMALE\")\n",
    "        \n",
    "    groups = c1['author_exp'].unique()\n",
    "    for i in range(0, len(groups)-1):\n",
    "        for j in range(i+1, len(groups)):\n",
    "            res = ws.ztest(x1 = c1.loc[c1['author_exp'] == groups[i], 'rating_count'],\n",
    "                           x2 = c1.loc[c1['author_exp'] == groups[j], 'rating_count'],\n",
    "                           usevar = 'pooled', alternative = \"two-sided\")\n",
    "            print(\"Class\", (groups[i], groups[j]), res)"
   ]
  },
  {
   "cell_type": "markdown",
   "id": "fdac007f",
   "metadata": {},
   "source": [
    "#### Check the male v/s female author behaviour across author class"
   ]
  },
  {
   "cell_type": "code",
   "execution_count": 339,
   "id": "d045d514",
   "metadata": {},
   "outputs": [
    {
     "name": "stdout",
     "output_type": "stream",
     "text": [
      "\n",
      "AVERAGE\n",
      "Class ('female', 'male') (-0.24638958656882956, 0.805380666531034)\n",
      "\n",
      "NEWBIE\n",
      "Class ('female', 'male') (-0.24638958656882956, 0.805380666531034)\n",
      "\n",
      "EXPERIENCED\n",
      "Class ('female', 'male') (-0.24638958656882956, 0.805380666531034)\n"
     ]
    }
   ],
   "source": [
    "for i in c1['author_exp'].unique():\n",
    "    if i == 'newbie':\n",
    "        print(f\"\\nNEWBIE\")\n",
    "    elif i == 'average':\n",
    "        print(f\"\\nAVERAGE\")\n",
    "    else:\n",
    "        print(f\"\\nEXPERIENCED\")\n",
    "        \n",
    "    groups = c1['author_sex'].unique()\n",
    "    for i in range(0, len(groups)-1):\n",
    "        for j in range(i+1, len(groups)):\n",
    "            res = ws.ztest(x1 = c1.loc[c1['author_sex'] == groups[i], 'rating_count'],\n",
    "                           x2 = c1.loc[c1['author_sex'] == groups[j], 'rating_count'],\n",
    "                           usevar = 'pooled', alternative = \"two-sided\")\n",
    "            print(\"Class\", (groups[i], groups[j]), res)"
   ]
  },
  {
   "cell_type": "markdown",
   "id": "a46c083e",
   "metadata": {},
   "source": [
    "**Conclusion**: From the two tests above: behaviour is consistent. There is no effect of author sex on work experience and vice versa!"
   ]
  },
  {
   "cell_type": "markdown",
   "id": "748d89d4",
   "metadata": {},
   "source": [
    "**Hypothesis 3:**\n",
    "\n",
    "The publisher receives books with pages ranging from 1-10K+! Bulky books require a lot of time to be reviewed. And if they do not sell more, it’s just a waste of effort. The publisher is interested to see if the bulkier books have less rating count on an average as compared to average-sized books.  <br></br>\n",
    "Books can be classified into 3 bins: <br></br>\n",
    "- Light: < 200 pages\n",
    "- Average: 200 - 400 pages\n",
    "- Bulky: > 400 pages"
   ]
  },
  {
   "cell_type": "code",
   "execution_count": 340,
   "id": "a780fec5",
   "metadata": {},
   "outputs": [
    {
     "data": {
      "text/html": [
       "<div>\n",
       "<style scoped>\n",
       "    .dataframe tbody tr th:only-of-type {\n",
       "        vertical-align: middle;\n",
       "    }\n",
       "\n",
       "    .dataframe tbody tr th {\n",
       "        vertical-align: top;\n",
       "    }\n",
       "\n",
       "    .dataframe thead th {\n",
       "        text-align: right;\n",
       "    }\n",
       "</style>\n",
       "<table border=\"1\" class=\"dataframe\">\n",
       "  <thead>\n",
       "    <tr style=\"text-align: right;\">\n",
       "      <th></th>\n",
       "      <th>book_name</th>\n",
       "      <th>page_count</th>\n",
       "      <th>book_size</th>\n",
       "      <th>rating_count</th>\n",
       "    </tr>\n",
       "  </thead>\n",
       "  <tbody>\n",
       "    <tr>\n",
       "      <th>0</th>\n",
       "      <td>inner circle</td>\n",
       "      <td>220</td>\n",
       "      <td>average</td>\n",
       "      <td>7597</td>\n",
       "    </tr>\n",
       "    <tr>\n",
       "      <th>1</th>\n",
       "      <td>ambition</td>\n",
       "      <td>279</td>\n",
       "      <td>average</td>\n",
       "      <td>6719</td>\n",
       "    </tr>\n",
       "    <tr>\n",
       "      <th>2</th>\n",
       "      <td>revelation</td>\n",
       "      <td>249</td>\n",
       "      <td>average</td>\n",
       "      <td>7431</td>\n",
       "    </tr>\n",
       "    <tr>\n",
       "      <th>3</th>\n",
       "      <td>legacy</td>\n",
       "      <td>243</td>\n",
       "      <td>average</td>\n",
       "      <td>7010</td>\n",
       "    </tr>\n",
       "    <tr>\n",
       "      <th>4</th>\n",
       "      <td>vanished</td>\n",
       "      <td>204</td>\n",
       "      <td>average</td>\n",
       "      <td>3724</td>\n",
       "    </tr>\n",
       "  </tbody>\n",
       "</table>\n",
       "</div>"
      ],
      "text/plain": [
       "      book_name  page_count book_size  rating_count\n",
       "0  inner circle         220   average          7597\n",
       "1      ambition         279   average          6719\n",
       "2    revelation         249   average          7431\n",
       "3        legacy         243   average          7010\n",
       "4      vanished         204   average          3724"
      ]
     },
     "execution_count": 340,
     "metadata": {},
     "output_type": "execute_result"
    }
   ],
   "source": [
    "p0 = data[['book_name','page_count','book_size','rating_count']]\n",
    "p0.head()"
   ]
  },
  {
   "cell_type": "code",
   "execution_count": 344,
   "id": "5d393bbc",
   "metadata": {},
   "outputs": [
    {
     "data": {
      "image/png": "[encoded data removed]",
      "text/plain": [
       "<Figure size 1152x288 with 3 Axes>"
      ]
     },
     "metadata": {
      "needs_background": "light"
     },
     "output_type": "display_data"
    }
   ],
   "source": [
    "fig, ax = plt.subplots(nrows = 1, ncols = 3, figsize = (16, 4))\n",
    "\n",
    "sns.boxplot(x = 'page_count', data = p0, ax = ax[0], color = 'grey')\n",
    "ax[0].set_title('Page Count Zoomed')\n",
    "ax[0].set_xlim(0, 1000)\n",
    "ax[0].set_xlabel('')\n",
    "\n",
    "size = p0.groupby(by = 'book_size',as_index = False).agg({'book_name':'count'})\n",
    "sns.barplot(x = 'book_size', y = 'book_name', data = size, order = ['light', 'average', 'bulky'], palette = 'magma_r', ax =  ax[1])\n",
    "ax[1].set_title('#Books')\n",
    "ax[1].set_ylabel('')\n",
    "ax[1].set_xlabel('')\n",
    "\n",
    "df_size = p0.groupby(by = 'book_size', as_index = False).agg({'rating_count':'mean'})\n",
    "sns.barplot(x = 'book_size', y = 'rating_count', data = df_size, order = ['light', 'average', 'bulky'], palette = 'magma_r', ax = ax[2])\n",
    "ax[2].set_title('#Average Rating Count')\n",
    "ax[2].set_ylabel('')\n",
    "ax[2].set_xlabel('')\n",
    "\n",
    "plt.show()"
   ]
  },
  {
   "cell_type": "markdown",
   "id": "84007435",
   "metadata": {},
   "source": [
    "**Hypothsis 3:**\n",
    "\n",
    "<center> Null Hypothesis: Average rating count of of sized bookes are equal. </center>\n",
    "\n",
    "Test: <br></br>\n",
    "Independent 2-tailed Z-test to compare mean rating count b/w all 3 class of books.\n",
    "\n",
    "Outcome: <br></br>\n",
    "p-value of the sample under Null Hypothesis <br></br>\n",
    "Considering 5% level of significance,  if the p-value would be less than 5%, then we would reject the null hypothesis. \n"
   ]
  },
  {
   "cell_type": "code",
   "execution_count": 345,
   "id": "c62322d2",
   "metadata": {},
   "outputs": [
    {
     "name": "stdout",
     "output_type": "stream",
     "text": [
      "\n",
      "----- ANOVA ------\n",
      "                df        sum_sq       mean_sq        F        PR(>F)\n",
      "book_size      2.0  1.198054e+12  5.990268e+11  32.1299  1.146250e-14\n",
      "Residual   34135.0  6.364097e+14  1.864391e+10      NaN           NaN\n",
      "\n"
     ]
    }
   ],
   "source": [
    "print(\"\\n----- ANOVA ------\")\n",
    "\n",
    "import statsmodels.api as sm\n",
    "from statsmodels.formula.api import ols\n",
    "\n",
    "model = ols('rating_count ~ book_size', data = p0).fit()\n",
    "aov_table = sm.stats.anova_lm(model, typ=1)\n",
    "print(f\"{aov_table}\\n\")"
   ]
  },
  {
   "cell_type": "markdown",
   "id": "b439b7db",
   "metadata": {},
   "source": [
    "**Conclusion:** p value < 0.05. We have enough evidence to reject the null hypothesis of equality of mean rating count across the 3 sizes of books.\n",
    "\n",
    "**Pairwise Independent Z-test**"
   ]
  },
  {
   "cell_type": "code",
   "execution_count": 346,
   "id": "324970ae",
   "metadata": {},
   "outputs": [
    {
     "name": "stdout",
     "output_type": "stream",
     "text": [
      "\n",
      "using built-in python function\n",
      "\n",
      "Class ('light', 'average') --> (-3.1090357422401165, 0.0018769901035332903)\n",
      "Class ('light', 'bulky') --> (-7.643748478516759, 2.1098737046341615e-14)\n",
      "Class ('average', 'bulky') --> (-6.046462467727214, 1.48060703715127e-09)\n"
     ]
    }
   ],
   "source": [
    "print(f\"\\nusing built-in python function\\n\")\n",
    "size = ['light','average','bulky']\n",
    "for i in range(len(size)-1):\n",
    "    for j in range(i+1, len(size)):\n",
    "        x = p0.loc[p0['book_size'] == size[i], 'rating_count']\n",
    "        y = p0.loc[p0['book_size'] == size[j], 'rating_count']\n",
    "        res = ws.ztest(x1 = x, x2 = y, value = 0, alternative = 'two-sided', usevar = 'pooled')\n",
    "        print(f\"Class {size[i], size[j]} --> {res}\")"
   ]
  },
  {
   "cell_type": "markdown",
   "id": "f2f4a7fe",
   "metadata": {},
   "source": [
    "**Conclusion:**\n",
    "All: Light v/s Average v/s Bulky: p value < 0.05 <br></br>\n",
    "    We reject the null hypothesis that rating count across these class of books are equal. \n",
    "    Meaning: Bulky books have statistically significant higher rating counts."
   ]
  },
  {
   "cell_type": "markdown",
   "id": "a7b5e30a",
   "metadata": {},
   "source": [
    "#### Hypothesis 4:\n",
    "\n",
    "Genre of the book is an obvious factor that can have a grossing affect on the rating count. The most popular ones being: Fiction and Non-Fiction (we’ll club the rest in ‘others’). Intuitively, most people prefer reading fiction over non-fiction and others. The publisher is interested to know if this is indeed true. If we find out that the rating count of fiction is not greater than non-fiction (or others), then we would know that the bias a publisher has toward fiction books is ill-formed."
   ]
  },
  {
   "cell_type": "code",
   "execution_count": 418,
   "id": "bede3f8e",
   "metadata": {},
   "outputs": [
    {
     "data": {
      "text/html": [
       "<div>\n",
       "<style scoped>\n",
       "    .dataframe tbody tr th:only-of-type {\n",
       "        vertical-align: middle;\n",
       "    }\n",
       "\n",
       "    .dataframe tbody tr th {\n",
       "        vertical-align: top;\n",
       "    }\n",
       "\n",
       "    .dataframe thead th {\n",
       "        text-align: right;\n",
       "    }\n",
       "</style>\n",
       "<table border=\"1\" class=\"dataframe\">\n",
       "  <thead>\n",
       "    <tr style=\"text-align: right;\">\n",
       "      <th></th>\n",
       "      <th>book_name</th>\n",
       "      <th>genre</th>\n",
       "      <th>genre_category</th>\n",
       "      <th>rating_count</th>\n",
       "    </tr>\n",
       "  </thead>\n",
       "  <tbody>\n",
       "    <tr>\n",
       "      <th>0</th>\n",
       "      <td>inner circle</td>\n",
       "      <td>young adult</td>\n",
       "      <td>fiction</td>\n",
       "      <td>7597</td>\n",
       "    </tr>\n",
       "    <tr>\n",
       "      <th>1</th>\n",
       "      <td>ambition</td>\n",
       "      <td>young adult</td>\n",
       "      <td>fiction</td>\n",
       "      <td>6719</td>\n",
       "    </tr>\n",
       "    <tr>\n",
       "      <th>2</th>\n",
       "      <td>revelation</td>\n",
       "      <td>young adult</td>\n",
       "      <td>fiction</td>\n",
       "      <td>7431</td>\n",
       "    </tr>\n",
       "    <tr>\n",
       "      <th>3</th>\n",
       "      <td>legacy</td>\n",
       "      <td>young adult</td>\n",
       "      <td>fiction</td>\n",
       "      <td>7010</td>\n",
       "    </tr>\n",
       "    <tr>\n",
       "      <th>4</th>\n",
       "      <td>vanished</td>\n",
       "      <td>young adult</td>\n",
       "      <td>fiction</td>\n",
       "      <td>3724</td>\n",
       "    </tr>\n",
       "  </tbody>\n",
       "</table>\n",
       "</div>"
      ],
      "text/plain": [
       "      book_name        genre genre_category  rating_count\n",
       "0  inner circle  young adult        fiction          7597\n",
       "1      ambition  young adult        fiction          6719\n",
       "2    revelation  young adult        fiction          7431\n",
       "3        legacy  young adult        fiction          7010\n",
       "4      vanished  young adult        fiction          3724"
      ]
     },
     "execution_count": 418,
     "metadata": {},
     "output_type": "execute_result"
    }
   ],
   "source": [
    "g0 = data[['book_name','genre','genre_category','rating_count']]\n",
    "g0.head()"
   ]
  },
  {
   "cell_type": "code",
   "execution_count": 441,
   "id": "fb8c66db",
   "metadata": {},
   "outputs": [
    {
     "data": {
      "image/png": "[encoded data removed]",
      "text/plain": [
       "<Figure size 1080x720 with 4 Axes>"
      ]
     },
     "metadata": {
      "needs_background": "light"
     },
     "output_type": "display_data"
    }
   ],
   "source": [
    "fig, ax = plt.subplots(nrows = 2, ncols = 2, figsize = (15,10))\n",
    "\n",
    "gx1 = pd.DataFrame(g0['genre'].value_counts()).reset_index()[0:10]\n",
    "ax[0,0].barh(y = 'index', width = 'genre', data = gx1.sort_values(by = 'genre', ascending = True), color = 'green')\n",
    "ax[0,0].set_title('Top 10 Genre on #Books')\n",
    "\n",
    "gx2 = g0.groupby(by = 'genre',as_index = False).agg({'rating_count':'sum'}).sort_values(by = 'rating_count', ascending = False)[0:10]\n",
    "ax[1,0].barh(y = 'genre', width = 'rating_count', data = gx2.sort_values(by = 'rating_count', ascending = True), color = 'orange')\n",
    "ax[1,0].set_title('Top 10 Genre on #Rating Count')\n",
    "\n",
    "genre = g0.groupby(by = 'genre_category',as_index = False).agg({'book_name':'count'})\n",
    "sns.barplot(x = 'genre_category', y = 'book_name', data = genre, order = ['fiction', 'non-fiction', 'others'], palette = 'hls', ax =  ax[0,1])\n",
    "ax[0,1].set_title('#Books')\n",
    "ax[0,1].set_ylabel('')\n",
    "ax[0,1].set_xlabel('')\n",
    "\n",
    "df_genre = g0.groupby(by = 'genre_category', as_index = False).agg({'rating_count':'mean'})\n",
    "sns.barplot(x = 'genre_category', y = 'rating_count', data = df_genre, order = ['fiction', 'non-fiction', 'others'], palette = 'hls', ax = ax[1,1])\n",
    "ax[1,1].set_title('#Average Rating Count')\n",
    "ax[1,1].set_ylabel('')\n",
    "ax[1,1].set_xlabel('')\n",
    "\n",
    "\n",
    "plt.show()"
   ]
  },
  {
   "cell_type": "markdown",
   "id": "553ee7b1",
   "metadata": {},
   "source": [
    "**Hypothesis 4:**\n",
    "\n",
    "<center> Null Hypothesis: Average rating count of Fiction books is greater than or equal to that of non-fiction & others. </center>\n",
    "\n",
    "Test: <br></br>\n",
    "Pairwise comparison of means b/w group 1 v/s 2, and group 1 v/s 3\n",
    "\t\n",
    "Outcome: <br></br>\n",
    "p-value of the sample under Null Hypothesis in both tests <br></br>\n",
    "Considering 5% level of significance,  if the p-value would be less than 5%, then we would reject the null hypothesis. \n"
   ]
  },
  {
   "cell_type": "code",
   "execution_count": 442,
   "id": "fa874691",
   "metadata": {},
   "outputs": [
    {
     "name": "stdout",
     "output_type": "stream",
     "text": [
      "\n",
      "using built-in python function\n",
      "\n",
      "Class ('fiction', 'non-fiction') --> (5.138707626988176, 2.76634422894546e-07)\n",
      "Class ('fiction', 'others') --> (9.841139078088977, 7.485842469310643e-23)\n",
      "Class ('non-fiction', 'others') --> (4.597470935849239, 4.276502608905288e-06)\n"
     ]
    }
   ],
   "source": [
    "print(f\"\\nusing built-in python function\\n\")\n",
    "gen = ['fiction','non-fiction','others']\n",
    "for i in range(len(gen)-1):\n",
    "    for j in range(i+1, len(gen)):\n",
    "        x = g0.loc[g0['genre_category'] == gen[i], 'rating_count']\n",
    "        y = g0.loc[g0['genre_category'] == gen[j], 'rating_count']\n",
    "        res = ws.ztest(x1 = x, x2 = y, value = 0, alternative = 'two-sided')\n",
    "        print(f\"Class {gen[i], gen[j]} --> {res}\")"
   ]
  },
  {
   "cell_type": "markdown",
   "id": "58779f2f",
   "metadata": {},
   "source": [
    "### Combined Hypothesis: Impact of Book Size on Genre & vice-versa"
   ]
  },
  {
   "cell_type": "code",
   "execution_count": 450,
   "id": "a15c04e1",
   "metadata": {},
   "outputs": [
    {
     "data": {
      "text/html": [
       "<div>\n",
       "<style scoped>\n",
       "    .dataframe tbody tr th:only-of-type {\n",
       "        vertical-align: middle;\n",
       "    }\n",
       "\n",
       "    .dataframe tbody tr th {\n",
       "        vertical-align: top;\n",
       "    }\n",
       "\n",
       "    .dataframe thead th {\n",
       "        text-align: right;\n",
       "    }\n",
       "</style>\n",
       "<table border=\"1\" class=\"dataframe\">\n",
       "  <thead>\n",
       "    <tr style=\"text-align: right;\">\n",
       "      <th></th>\n",
       "      <th>book_name</th>\n",
       "      <th>genre</th>\n",
       "      <th>genre_category</th>\n",
       "      <th>rating_count</th>\n",
       "      <th>book_size</th>\n",
       "    </tr>\n",
       "  </thead>\n",
       "  <tbody>\n",
       "    <tr>\n",
       "      <th>0</th>\n",
       "      <td>inner circle</td>\n",
       "      <td>young adult</td>\n",
       "      <td>fiction</td>\n",
       "      <td>7597</td>\n",
       "      <td>average</td>\n",
       "    </tr>\n",
       "    <tr>\n",
       "      <th>1</th>\n",
       "      <td>ambition</td>\n",
       "      <td>young adult</td>\n",
       "      <td>fiction</td>\n",
       "      <td>6719</td>\n",
       "      <td>average</td>\n",
       "    </tr>\n",
       "    <tr>\n",
       "      <th>2</th>\n",
       "      <td>revelation</td>\n",
       "      <td>young adult</td>\n",
       "      <td>fiction</td>\n",
       "      <td>7431</td>\n",
       "      <td>average</td>\n",
       "    </tr>\n",
       "    <tr>\n",
       "      <th>3</th>\n",
       "      <td>revelation</td>\n",
       "      <td>young adult</td>\n",
       "      <td>fiction</td>\n",
       "      <td>7431</td>\n",
       "      <td>bulky</td>\n",
       "    </tr>\n",
       "    <tr>\n",
       "      <th>4</th>\n",
       "      <td>revelation</td>\n",
       "      <td>young adult</td>\n",
       "      <td>fiction</td>\n",
       "      <td>7431</td>\n",
       "      <td>average</td>\n",
       "    </tr>\n",
       "  </tbody>\n",
       "</table>\n",
       "</div>"
      ],
      "text/plain": [
       "      book_name        genre genre_category  rating_count book_size\n",
       "0  inner circle  young adult        fiction          7597   average\n",
       "1      ambition  young adult        fiction          6719   average\n",
       "2    revelation  young adult        fiction          7431   average\n",
       "3    revelation  young adult        fiction          7431     bulky\n",
       "4    revelation  young adult        fiction          7431   average"
      ]
     },
     "execution_count": 450,
     "metadata": {},
     "output_type": "execute_result"
    }
   ],
   "source": [
    "c2 = pd.merge(left = g0, right = p0[['book_name','book_size']], how = 'inner', on = 'book_name')\n",
    "c2.head()"
   ]
  },
  {
   "cell_type": "markdown",
   "id": "992c3df8",
   "metadata": {},
   "source": [
    "#### Check Book Size behaviour across genre"
   ]
  },
  {
   "cell_type": "code",
   "execution_count": 452,
   "id": "83633b91",
   "metadata": {},
   "outputs": [
    {
     "name": "stdout",
     "output_type": "stream",
     "text": [
      "\n",
      "FICTION\n",
      "Class ('light', 'average') (-2.879688144992288, 0.003980687045124031)\n",
      "Class ('light', 'bulky') (-7.001605823033686, 2.5304518831628734e-12)\n",
      "Class ('average', 'bulky') (-5.4367140797369045, 5.4272122282770015e-08)\n",
      "\n",
      "NON-FICTION\n",
      "Class ('light', 'average') (-2.879688144992288, 0.003980687045124031)\n",
      "Class ('light', 'bulky') (-7.001605823033686, 2.5304518831628734e-12)\n",
      "Class ('average', 'bulky') (-5.4367140797369045, 5.4272122282770015e-08)\n",
      "\n",
      "OTHERS\n",
      "Class ('light', 'average') (-2.879688144992288, 0.003980687045124031)\n",
      "Class ('light', 'bulky') (-7.001605823033686, 2.5304518831628734e-12)\n",
      "Class ('average', 'bulky') (-5.4367140797369045, 5.4272122282770015e-08)\n"
     ]
    }
   ],
   "source": [
    "sec1 = ['fiction','non-fiction','others']\n",
    "for i in sec1:\n",
    "    if i == 'fiction':\n",
    "        print(f\"\\nFICTION\")\n",
    "    elif i == 'non-fiction':\n",
    "        print(f\"\\nNON-FICTION\")\n",
    "    else:\n",
    "        print(f\"\\nOTHERS\")\n",
    "        \n",
    "    groups = ['light','average','bulky']\n",
    "    for i in range(0, len(groups)-1):\n",
    "        for j in range(i+1, len(groups)):\n",
    "            res = ws.ztest(x1 = c2.loc[c2['book_size'] == groups[i], 'rating_count'],\n",
    "                           x2 = c2.loc[c2['book_size'] == groups[j], 'rating_count'],\n",
    "                           alternative = \"two-sided\")\n",
    "            print(\"Class\", (groups[i], groups[j]), res)"
   ]
  },
  {
   "cell_type": "markdown",
   "id": "62d345eb",
   "metadata": {},
   "source": [
    "#### Check Genre behaviour across size"
   ]
  },
  {
   "cell_type": "code",
   "execution_count": 455,
   "id": "9e9708e0",
   "metadata": {},
   "outputs": [
    {
     "name": "stdout",
     "output_type": "stream",
     "text": [
      "\n",
      "LIGHT\n",
      "Class ('fiction', 'non-fiction') (5.22884161956799, 1.7057541010684223e-07)\n",
      "Class ('fiction', 'others') (10.861679473477887, 1.754915929025108e-27)\n",
      "Class ('non-fiction', 'others') (5.788175205564558, 7.11551727471487e-09)\n",
      "\n",
      "AVERAGE\n",
      "Class ('fiction', 'non-fiction') (5.22884161956799, 1.7057541010684223e-07)\n",
      "Class ('fiction', 'others') (10.861679473477887, 1.754915929025108e-27)\n",
      "Class ('non-fiction', 'others') (5.788175205564558, 7.11551727471487e-09)\n",
      "\n",
      "BULKY\n",
      "Class ('fiction', 'non-fiction') (5.22884161956799, 1.7057541010684223e-07)\n",
      "Class ('fiction', 'others') (10.861679473477887, 1.754915929025108e-27)\n",
      "Class ('non-fiction', 'others') (5.788175205564558, 7.11551727471487e-09)\n"
     ]
    }
   ],
   "source": [
    "sec1 = ['light','average','bulky']\n",
    "for i in sec1:\n",
    "    if i == 'light':\n",
    "        print(f\"\\nLIGHT\")\n",
    "    elif i == 'average':\n",
    "        print(f\"\\nAVERAGE\")\n",
    "    else:\n",
    "        print(f\"\\nBULKY\")\n",
    "        \n",
    "    groups = ['fiction','non-fiction','others']\n",
    "    for i in range(0, len(groups)-1):\n",
    "        for j in range(i+1, len(groups)):\n",
    "            res = ws.ztest(x1 = c2.loc[c2['genre_category'] == groups[i], 'rating_count'],\n",
    "                           x2 = c2.loc[c2['genre_category'] == groups[j], 'rating_count'],\n",
    "                           alternative = \"two-sided\")\n",
    "            print(\"Class\", (groups[i], groups[j]), res)"
   ]
  },
  {
   "cell_type": "code",
   "execution_count": null,
   "id": "5e331093",
   "metadata": {},
   "outputs": [],
   "source": []
  },
  {
   "cell_type": "code",
   "execution_count": null,
   "id": "fc0f69c6",
   "metadata": {},
   "outputs": [],
   "source": []
  }
 ],
 "metadata": {
  "kernelspec": {
   "display_name": "Python 3",
   "language": "python",
   "name": "python3"
  },
  "language_info": {
   "codemirror_mode": {
    "name": "ipython",
    "version": 3
   },
   "file_extension": ".py",
   "mimetype": "text/x-python",
   "name": "python",
   "nbconvert_exporter": "python",
   "pygments_lexer": "ipython3",
   "version": "3.8.8"
  }
 },
 "nbformat": 4,
 "nbformat_minor": 5
}
