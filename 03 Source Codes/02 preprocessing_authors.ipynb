{
 "cells": [
  {
   "cell_type": "markdown",
   "id": "85a8a2e9",
   "metadata": {},
   "source": [
    "#### Notebook 2: This Jupyter notebook processes raw authors csv data performing basic data cleaning:\n",
    "\n",
    "1. Selecting only desired features (raw/derived)\n",
    "2. String cleaning\n",
    "3. Handling missing values"
   ]
  },
  {
   "cell_type": "code",
   "execution_count": 1,
   "id": "1b1d8287",
   "metadata": {},
   "outputs": [
    {
     "name": "stderr",
     "output_type": "stream",
     "text": [
      "<ipython-input-1-69c1dfecfd0a>:35: FutureWarning: The default value of regex will change from True to False in a future version.\n",
      "  authors[c] = authors[c].str.replace(r\" +\", \" \")\n"
     ]
    }
   ],
   "source": [
    "# Import Libraries ------------------------------------------------------------\n",
    "import os\n",
    "import pandas as pd\n",
    "\n",
    "\n",
    "# Load Data (only required columns) ---------------------------------------\n",
    "path = \"C:\\\\Users\\\\juhic\\\\OneDrive\\\\Desktop\\\\goodreads_kaggle_authors.csv\"\n",
    "authors = pd.read_csv(path, usecols = ['name',\n",
    "                                     'workcount',\n",
    "                                     'gender',\n",
    "                                     'average_rate',\n",
    "                                     'rating_count',\n",
    "                                     'review_count',\n",
    "                                     'country'])\n",
    "\n",
    "\n",
    "# Rename columns ---------------------------------------------------------\n",
    "cols = {'name': 'author',\n",
    "        'workcount': 'work_count',\n",
    "        'average_rate': 'author_avg_rating',\n",
    "        'rating_count': 'author_rating_count',\n",
    "        'review_count': 'author_review_count',\n",
    "        'country': 'author_country'}\n",
    "authors.rename(columns = cols, inplace = True)\n",
    "\n",
    "\n",
    "# String cleaning ------------------------------------------------------\n",
    "cols = ['author','gender','author_country']\n",
    "\n",
    "# lowercase, strip spaces from ends\n",
    "authors[cols] = authors[cols].apply(func = lambda x: x.str.lower().str.strip(), axis = 1)\n",
    "\n",
    "# strip spaces between ends\n",
    "for c in cols:\n",
    "    authors[c] = authors[c].str.replace(r\" +\", \" \")\n",
    "    \n",
    "    \n",
    "# Authors: Drop authors with unknown gender -------------------------------------------------\n",
    "authors.drop(authors[authors['gender'] == 'unknown'].index, inplace = True)\n",
    "authors.reset_index(drop = True, inplace = True)"
   ]
  },
  {
   "cell_type": "code",
   "execution_count": 2,
   "id": "ae167eb3",
   "metadata": {},
   "outputs": [],
   "source": [
    "# Download processed authors data --------------------------------------------------\n",
    "authors.to_csv('authors_processed.csv')"
   ]
  },
  {
   "cell_type": "markdown",
   "id": "1b018547",
   "metadata": {},
   "source": [
    "#### Handling Missing Values (WIP)"
   ]
  },
  {
   "cell_type": "code",
   "execution_count": null,
   "id": "b9e3e9f6",
   "metadata": {},
   "outputs": [],
   "source": [
    "# Fill missing values --------------------------------------------------------------\n",
    "# Step 1: Identify categorical & numerical columns\n",
    "cols_categorical = ['gender','author_country']\n",
    "cols_numerical = ['work_count','author_avg_rating','author_rating_count','author_review_count']\n",
    "\n",
    "# Step 2: Fillna/Dropna/Impute as needed\n",
    "authors[cols_categorical] = authors[cols_categorical].fillna('')\n",
    "authors[cols_numerical] = authors[cols_numerical].fillna(0)"
   ]
  }
 ],
 "metadata": {
  "kernelspec": {
   "display_name": "Python 3",
   "language": "python",
   "name": "python3"
  },
  "language_info": {
   "codemirror_mode": {
    "name": "ipython",
    "version": 3
   },
   "file_extension": ".py",
   "mimetype": "text/x-python",
   "name": "python",
   "nbconvert_exporter": "python",
   "pygments_lexer": "ipython3",
   "version": "3.8.8"
  }
 },
 "nbformat": 4,
 "nbformat_minor": 5
}
