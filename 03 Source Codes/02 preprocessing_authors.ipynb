{
 "cells": [
  {
   "cell_type": "markdown",
   "id": "85a8a2e9",
   "metadata": {},
   "source": [
    "## Authors Processing\n",
    "\n",
    "This Jupyter notebook processes raw authors csv data performing basic data cleaning:\n",
    "\n",
    "1. Selecting only desired features (raw/derived)\n",
    "2. String cleaning\n",
    "3. Handling missing values"
   ]
  },
  {
   "cell_type": "markdown",
   "id": "e8a6c251",
   "metadata": {},
   "source": [
    "#### Import Libraries"
   ]
  },
  {
   "cell_type": "code",
   "execution_count": 21,
   "id": "2d37c55f",
   "metadata": {},
   "outputs": [],
   "source": [
    "import pandas as pd"
   ]
  },
  {
   "cell_type": "markdown",
   "id": "49b82281",
   "metadata": {},
   "source": [
    "#### Data Upload"
   ]
  },
  {
   "cell_type": "code",
   "execution_count": 22,
   "id": "9844b846",
   "metadata": {},
   "outputs": [
    {
     "name": "stdout",
     "output_type": "stream",
     "text": [
      "<class 'pandas.core.frame.DataFrame'>\n",
      "RangeIndex: 209517 entries, 0 to 209516\n",
      "Data columns (total 20 columns):\n",
      " #   Column             Non-Null Count   Dtype  \n",
      "---  ------             --------------   -----  \n",
      " 0   authorid           209517 non-null  int64  \n",
      " 1   name               209517 non-null  object \n",
      " 2   workcount          209517 non-null  int64  \n",
      " 3   fan_count          209517 non-null  int64  \n",
      " 4   gender             209517 non-null  object \n",
      " 5   image_url          209517 non-null  object \n",
      " 6   about              86724 non-null   object \n",
      " 7   born               31230 non-null   object \n",
      " 8   died               12488 non-null   object \n",
      " 9   influence          7882 non-null    object \n",
      " 10  average_rate       209517 non-null  float64\n",
      " 11  rating_count       209517 non-null  int64  \n",
      " 12  review_count       209517 non-null  int64  \n",
      " 13  website            58320 non-null   object \n",
      " 14  twitter            35122 non-null   object \n",
      " 15  genre              73983 non-null   object \n",
      " 16  original_hometown  44599 non-null   object \n",
      " 17  country            44599 non-null   object \n",
      " 18  latitude           44369 non-null   float64\n",
      " 19  longitude          44369 non-null   float64\n",
      "dtypes: float64(3), int64(5), object(12)\n",
      "memory usage: 32.0+ MB\n"
     ]
    }
   ],
   "source": [
    "path = \"C:\\\\Users\\\\juhic\\\\OneDrive\\\\Desktop\\\\goodreads_kaggle_authors.csv\"\n",
    "authors = pd.read_csv(path)\n",
    "authors.info()"
   ]
  },
  {
   "cell_type": "code",
   "execution_count": 23,
   "id": "97cc6640",
   "metadata": {},
   "outputs": [],
   "source": [
    "path = \"C:\\\\Users\\\\juhic\\\\OneDrive\\\\Desktop\\\\goodreads_kaggle_authors.csv\"\n",
    "authors = pd.read_csv(path, usecols = [\n",
    "                                       'name',\n",
    "                                       'workcount',\n",
    "                                       'fan_count',\n",
    "                                       'gender',\n",
    "                                       'average_rate',\n",
    "                                       'rating_count',\n",
    "                                       'review_count',\n",
    "                                       'country'])\n",
    "\n",
    "\n",
    "# Rename columns ---------------------------------------------------------\n",
    "cols = {'name': 'author',\n",
    "        'workcount': 'work_count',\n",
    "        'average_rate': 'author_avg_rating',\n",
    "        'rating_count': 'author_rating_count',\n",
    "        'review_count': 'author_review_count',\n",
    "        'country': 'author_country',\n",
    "        'gender': 'sex'}\n",
    "authors.rename(columns = cols, inplace = True)"
   ]
  },
  {
   "cell_type": "markdown",
   "id": "8e39912f",
   "metadata": {},
   "source": [
    "#### Data Overview I"
   ]
  },
  {
   "cell_type": "code",
   "execution_count": 24,
   "id": "57237463",
   "metadata": {},
   "outputs": [
    {
     "name": "stdout",
     "output_type": "stream",
     "text": [
      "<class 'pandas.core.frame.DataFrame'>\n",
      "RangeIndex: 209517 entries, 0 to 209516\n",
      "Data columns (total 8 columns):\n",
      " #   Column               Non-Null Count   Dtype  \n",
      "---  ------               --------------   -----  \n",
      " 0   author               209517 non-null  object \n",
      " 1   work_count           209517 non-null  int64  \n",
      " 2   fan_count            209517 non-null  int64  \n",
      " 3   sex                  209517 non-null  object \n",
      " 4   author_avg_rating    209517 non-null  float64\n",
      " 5   author_rating_count  209517 non-null  int64  \n",
      " 6   author_review_count  209517 non-null  int64  \n",
      " 7   author_country       44599 non-null   object \n",
      "dtypes: float64(1), int64(4), object(3)\n",
      "memory usage: 12.8+ MB\n"
     ]
    }
   ],
   "source": [
    "authors.info()"
   ]
  },
  {
   "cell_type": "code",
   "execution_count": 25,
   "id": "85209b3d",
   "metadata": {},
   "outputs": [
    {
     "data": {
      "text/html": [
       "<div>\n",
       "<style scoped>\n",
       "    .dataframe tbody tr th:only-of-type {\n",
       "        vertical-align: middle;\n",
       "    }\n",
       "\n",
       "    .dataframe tbody tr th {\n",
       "        vertical-align: top;\n",
       "    }\n",
       "\n",
       "    .dataframe thead th {\n",
       "        text-align: right;\n",
       "    }\n",
       "</style>\n",
       "<table border=\"1\" class=\"dataframe\">\n",
       "  <thead>\n",
       "    <tr style=\"text-align: right;\">\n",
       "      <th></th>\n",
       "      <th>author</th>\n",
       "      <th>work_count</th>\n",
       "      <th>fan_count</th>\n",
       "      <th>sex</th>\n",
       "      <th>author_avg_rating</th>\n",
       "      <th>author_rating_count</th>\n",
       "      <th>author_review_count</th>\n",
       "      <th>author_country</th>\n",
       "    </tr>\n",
       "  </thead>\n",
       "  <tbody>\n",
       "    <tr>\n",
       "      <th>0</th>\n",
       "      <td>Jason   Wallace</td>\n",
       "      <td>2</td>\n",
       "      <td>13</td>\n",
       "      <td>male</td>\n",
       "      <td>3.74</td>\n",
       "      <td>1028</td>\n",
       "      <td>175</td>\n",
       "      <td>United Kingdom</td>\n",
       "    </tr>\n",
       "    <tr>\n",
       "      <th>1</th>\n",
       "      <td>Rosan Hollak</td>\n",
       "      <td>4</td>\n",
       "      <td>0</td>\n",
       "      <td>unknown</td>\n",
       "      <td>3.73</td>\n",
       "      <td>15</td>\n",
       "      <td>1</td>\n",
       "      <td>NaN</td>\n",
       "    </tr>\n",
       "    <tr>\n",
       "      <th>2</th>\n",
       "      <td>Nanna Foss</td>\n",
       "      <td>6</td>\n",
       "      <td>156</td>\n",
       "      <td>female</td>\n",
       "      <td>4.35</td>\n",
       "      <td>1172</td>\n",
       "      <td>205</td>\n",
       "      <td>NaN</td>\n",
       "    </tr>\n",
       "    <tr>\n",
       "      <th>3</th>\n",
       "      <td>Terri Savelle Foy</td>\n",
       "      <td>23</td>\n",
       "      <td>125</td>\n",
       "      <td>female</td>\n",
       "      <td>4.56</td>\n",
       "      <td>1054</td>\n",
       "      <td>151</td>\n",
       "      <td>NaN</td>\n",
       "    </tr>\n",
       "    <tr>\n",
       "      <th>4</th>\n",
       "      <td>Vishwas Nangare Patil</td>\n",
       "      <td>1</td>\n",
       "      <td>127</td>\n",
       "      <td>unknown</td>\n",
       "      <td>4.15</td>\n",
       "      <td>725</td>\n",
       "      <td>43</td>\n",
       "      <td>NaN</td>\n",
       "    </tr>\n",
       "  </tbody>\n",
       "</table>\n",
       "</div>"
      ],
      "text/plain": [
       "                  author  work_count  fan_count      sex  author_avg_rating  \\\n",
       "0        Jason   Wallace           2         13     male               3.74   \n",
       "1           Rosan Hollak           4          0  unknown               3.73   \n",
       "2             Nanna Foss           6        156   female               4.35   \n",
       "3      Terri Savelle Foy          23        125   female               4.56   \n",
       "4  Vishwas Nangare Patil           1        127  unknown               4.15   \n",
       "\n",
       "   author_rating_count  author_review_count  author_country  \n",
       "0                 1028                  175  United Kingdom  \n",
       "1                   15                    1             NaN  \n",
       "2                 1172                  205             NaN  \n",
       "3                 1054                  151             NaN  \n",
       "4                  725                   43             NaN  "
      ]
     },
     "execution_count": 25,
     "metadata": {},
     "output_type": "execute_result"
    }
   ],
   "source": [
    "authors.head()"
   ]
  },
  {
   "cell_type": "markdown",
   "id": "0ad19e58",
   "metadata": {},
   "source": [
    "#### String Cleaning"
   ]
  },
  {
   "cell_type": "code",
   "execution_count": 26,
   "id": "1b1d8287",
   "metadata": {},
   "outputs": [
    {
     "name": "stderr",
     "output_type": "stream",
     "text": [
      "<ipython-input-26-13bda8c57eac>:8: FutureWarning: The default value of regex will change from True to False in a future version.\n",
      "  authors[c] = authors[c].str.replace(r\" +\", \" \")\n"
     ]
    }
   ],
   "source": [
    "cols = ['author','sex','author_country']\n",
    "\n",
    "# lowercase, strip spaces from ends\n",
    "authors[cols] = authors[cols].apply(func = lambda x: x.str.lower().str.strip(), axis = 1)\n",
    "\n",
    "# strip spaces between ends\n",
    "for c in cols:\n",
    "    authors[c] = authors[c].str.replace(r\" +\", \" \")\n",
    "    \n",
    "\n",
    "# Authors: Drop authors with unknown sex -------------------------------------------------\n",
    "authors.drop(authors[authors['sex'] == 'unknown'].index, inplace = True)\n",
    "authors.reset_index(drop = True, inplace = True)"
   ]
  },
  {
   "cell_type": "markdown",
   "id": "1b018547",
   "metadata": {},
   "source": [
    "#### Handling Missing Values (WIP)"
   ]
  },
  {
   "cell_type": "code",
   "execution_count": 27,
   "id": "3de35854",
   "metadata": {},
   "outputs": [
    {
     "name": "stdout",
     "output_type": "stream",
     "text": [
      "Null records \n",
      "\n",
      "author: 0\n",
      "work_count: 0\n",
      "fan_count: 0\n",
      "sex: 0\n",
      "author_avg_rating: 0\n",
      "author_rating_count: 0\n",
      "author_review_count: 0\n",
      "author_country: 49626\n"
     ]
    }
   ],
   "source": [
    "print(f\"Null records \\n\")\n",
    "for c in authors.columns:\n",
    "    i = authors[authors[c].isnull()].shape[0]\n",
    "    print(f\"{c}: {i}\")"
   ]
  },
  {
   "cell_type": "code",
   "execution_count": 28,
   "id": "5a1645d5",
   "metadata": {},
   "outputs": [
    {
     "data": {
      "text/plain": [
       "united states                  16718\n",
       "united kingdom                  4425\n",
       "canada                          1276\n",
       "france                          1006\n",
       "germany                          924\n",
       "                               ...  \n",
       "solomon islands                    1\n",
       "french southern territories        1\n",
       "micronesia                         1\n",
       "djibouti                           1\n",
       "mauritania                         1\n",
       "Name: author_country, Length: 210, dtype: int64"
      ]
     },
     "execution_count": 28,
     "metadata": {},
     "output_type": "execute_result"
    }
   ],
   "source": [
    "authors['author_country'].value_counts()"
   ]
  },
  {
   "cell_type": "markdown",
   "id": "7f894734",
   "metadata": {},
   "source": [
    "*Observation*: There is data imbalance considering author country. \n",
    "\n",
    "*Action*: We will discard author country from our analysis instead of dropping records with null values. This way, we will not be making any inference based on country."
   ]
  },
  {
   "cell_type": "code",
   "execution_count": 29,
   "id": "86f44667",
   "metadata": {},
   "outputs": [],
   "source": [
    "authors.drop(axis = 1, columns = 'author_country',inplace = True)"
   ]
  },
  {
   "cell_type": "markdown",
   "id": "18c7d68b",
   "metadata": {},
   "source": [
    "#### Quality check for unique authors"
   ]
  },
  {
   "cell_type": "code",
   "execution_count": 30,
   "id": "cef508d6",
   "metadata": {},
   "outputs": [],
   "source": [
    "authors_deduped = authors.groupby(by = ['author','sex'], as_index = False).agg({'work_count':'max',\n",
    "                                                                                'fan_count':'max',\n",
    "                                                                                'author_avg_rating':'max',\n",
    "                                                                                'author_rating_count':'max',\n",
    "                                                                                'author_review_count':'max'})"
   ]
  },
  {
   "cell_type": "code",
   "execution_count": 31,
   "id": "1e0b8968",
   "metadata": {},
   "outputs": [
    {
     "data": {
      "text/html": [
       "<div>\n",
       "<style scoped>\n",
       "    .dataframe tbody tr th:only-of-type {\n",
       "        vertical-align: middle;\n",
       "    }\n",
       "\n",
       "    .dataframe tbody tr th {\n",
       "        vertical-align: top;\n",
       "    }\n",
       "\n",
       "    .dataframe thead th {\n",
       "        text-align: right;\n",
       "    }\n",
       "</style>\n",
       "<table border=\"1\" class=\"dataframe\">\n",
       "  <thead>\n",
       "    <tr style=\"text-align: right;\">\n",
       "      <th></th>\n",
       "      <th>author</th>\n",
       "      <th>sex</th>\n",
       "      <th>work_count</th>\n",
       "      <th>fan_count</th>\n",
       "      <th>author_avg_rating</th>\n",
       "      <th>author_rating_count</th>\n",
       "      <th>author_review_count</th>\n",
       "    </tr>\n",
       "  </thead>\n",
       "  <tbody>\n",
       "    <tr>\n",
       "      <th>2328</th>\n",
       "      <td>alexis hall</td>\n",
       "      <td>female</td>\n",
       "      <td>15</td>\n",
       "      <td>10</td>\n",
       "      <td>3.52</td>\n",
       "      <td>112</td>\n",
       "      <td>21</td>\n",
       "    </tr>\n",
       "    <tr>\n",
       "      <th>2329</th>\n",
       "      <td>alexis hall</td>\n",
       "      <td>male</td>\n",
       "      <td>33</td>\n",
       "      <td>1918</td>\n",
       "      <td>4.10</td>\n",
       "      <td>23489</td>\n",
       "      <td>5633</td>\n",
       "    </tr>\n",
       "  </tbody>\n",
       "</table>\n",
       "</div>"
      ],
      "text/plain": [
       "           author     sex  work_count  fan_count  author_avg_rating  \\\n",
       "2328  alexis hall  female          15         10               3.52   \n",
       "2329  alexis hall    male          33       1918               4.10   \n",
       "\n",
       "      author_rating_count  author_review_count  \n",
       "2328                  112                   21  \n",
       "2329                23489                 5633  "
      ]
     },
     "execution_count": 31,
     "metadata": {},
     "output_type": "execute_result"
    }
   ],
   "source": [
    "authors_deduped[authors_deduped['author']=='alexis hall']"
   ]
  },
  {
   "cell_type": "code",
   "execution_count": 32,
   "id": "be87802b",
   "metadata": {},
   "outputs": [
    {
     "data": {
      "text/plain": [
       "(87656, 2)"
      ]
     },
     "execution_count": 32,
     "metadata": {},
     "output_type": "execute_result"
    }
   ],
   "source": [
    "authors_deduped[['author','work_count']].drop_duplicates().shape"
   ]
  },
  {
   "cell_type": "code",
   "execution_count": 33,
   "id": "7d3c2b4d",
   "metadata": {},
   "outputs": [
    {
     "data": {
      "text/plain": [
       "jamie ivey           2\n",
       "robin hardy          2\n",
       "lee weeks            2\n",
       "j.m. winchester      2\n",
       "robin palmer         2\n",
       "                    ..\n",
       "maría baranda        1\n",
       "john everson         1\n",
       "lawrence a. machi    1\n",
       "momoko koda          1\n",
       "vint virga           1\n",
       "Name: author, Length: 87639, dtype: int64"
      ]
     },
     "execution_count": 33,
     "metadata": {},
     "output_type": "execute_result"
    }
   ],
   "source": [
    "authors_deduped['author'].value_counts()"
   ]
  },
  {
   "cell_type": "code",
   "execution_count": 34,
   "id": "b3fee37d",
   "metadata": {},
   "outputs": [
    {
     "data": {
      "text/html": [
       "<div>\n",
       "<style scoped>\n",
       "    .dataframe tbody tr th:only-of-type {\n",
       "        vertical-align: middle;\n",
       "    }\n",
       "\n",
       "    .dataframe tbody tr th {\n",
       "        vertical-align: top;\n",
       "    }\n",
       "\n",
       "    .dataframe thead th {\n",
       "        text-align: right;\n",
       "    }\n",
       "</style>\n",
       "<table border=\"1\" class=\"dataframe\">\n",
       "  <thead>\n",
       "    <tr style=\"text-align: right;\">\n",
       "      <th></th>\n",
       "      <th>author</th>\n",
       "      <th>sex</th>\n",
       "      <th>work_count</th>\n",
       "      <th>fan_count</th>\n",
       "      <th>author_avg_rating</th>\n",
       "      <th>author_rating_count</th>\n",
       "      <th>author_review_count</th>\n",
       "    </tr>\n",
       "  </thead>\n",
       "  <tbody>\n",
       "    <tr>\n",
       "      <th>69417</th>\n",
       "      <td>robin hardy</td>\n",
       "      <td>female</td>\n",
       "      <td>36</td>\n",
       "      <td>34</td>\n",
       "      <td>4.22</td>\n",
       "      <td>1691</td>\n",
       "      <td>119</td>\n",
       "    </tr>\n",
       "    <tr>\n",
       "      <th>69418</th>\n",
       "      <td>robin hardy</td>\n",
       "      <td>male</td>\n",
       "      <td>23</td>\n",
       "      <td>4</td>\n",
       "      <td>3.77</td>\n",
       "      <td>754</td>\n",
       "      <td>88</td>\n",
       "    </tr>\n",
       "  </tbody>\n",
       "</table>\n",
       "</div>"
      ],
      "text/plain": [
       "            author     sex  work_count  fan_count  author_avg_rating  \\\n",
       "69417  robin hardy  female          36         34               4.22   \n",
       "69418  robin hardy    male          23          4               3.77   \n",
       "\n",
       "       author_rating_count  author_review_count  \n",
       "69417                 1691                  119  \n",
       "69418                  754                   88  "
      ]
     },
     "execution_count": 34,
     "metadata": {},
     "output_type": "execute_result"
    }
   ],
   "source": [
    "authors_deduped[authors_deduped['author']=='robin hardy']"
   ]
  },
  {
   "cell_type": "markdown",
   "id": "295fabd9",
   "metadata": {},
   "source": [
    "Let's merge it with books dataset and then check for duplicate authors present there."
   ]
  },
  {
   "cell_type": "markdown",
   "id": "11cbded8",
   "metadata": {},
   "source": [
    "#### Data Download"
   ]
  },
  {
   "cell_type": "code",
   "execution_count": 35,
   "id": "ae167eb3",
   "metadata": {},
   "outputs": [],
   "source": [
    "# Download processed authors data --------------------------------------------------\n",
    "authors_deduped.to_csv('C:\\\\Users\\\\juhic\\\\OneDrive\\\\Desktop\\\\authors_processed.csv')"
   ]
  },
  {
   "cell_type": "code",
   "execution_count": null,
   "id": "24e19edc",
   "metadata": {},
   "outputs": [],
   "source": []
  }
 ],
 "metadata": {
  "kernelspec": {
   "display_name": "Python 3",
   "language": "python",
   "name": "python3"
  },
  "language_info": {
   "codemirror_mode": {
    "name": "ipython",
    "version": 3
   },
   "file_extension": ".py",
   "mimetype": "text/x-python",
   "name": "python",
   "nbconvert_exporter": "python",
   "pygments_lexer": "ipython3",
   "version": "3.8.8"
  }
 },
 "nbformat": 4,
 "nbformat_minor": 5
}
