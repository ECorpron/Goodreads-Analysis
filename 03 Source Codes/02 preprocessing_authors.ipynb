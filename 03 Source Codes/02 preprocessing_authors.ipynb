{
 "cells": [
  {
   "cell_type": "markdown",
   "id": "85a8a2e9",
   "metadata": {},
   "source": [
    "## Authors Processing\n",
    "\n",
    "This Jupyter notebook processes raw authors csv data performing basic data cleaning:\n",
    "\n",
    "1. Selecting only desired features (raw/derived)\n",
    "2. String cleaning\n",
    "3. Handling missing values"
   ]
  },
  {
   "cell_type": "markdown",
   "id": "e8a6c251",
   "metadata": {},
   "source": [
    "#### Import Libraries"
   ]
  },
  {
   "cell_type": "code",
   "execution_count": 1,
   "id": "2d37c55f",
   "metadata": {},
   "outputs": [],
   "source": [
    "import os\n",
    "import pandas as pd"
   ]
  },
  {
   "cell_type": "markdown",
   "id": "49b82281",
   "metadata": {},
   "source": [
    "#### Data Upload"
   ]
  },
  {
   "cell_type": "code",
   "execution_count": 2,
   "id": "97cc6640",
   "metadata": {},
   "outputs": [],
   "source": [
    "path = \"C:\\\\Users\\\\juhic\\\\OneDrive\\\\Desktop\\\\goodreads_kaggle_authors.csv\"\n",
    "authors = pd.read_csv(path, usecols = ['name',\n",
    "                                     'workcount',\n",
    "                                     'gender',\n",
    "                                     'average_rate',\n",
    "                                     'rating_count',\n",
    "                                     'review_count',\n",
    "                                     'country'])\n",
    "\n",
    "\n",
    "# Rename columns ---------------------------------------------------------\n",
    "cols = {'name': 'author',\n",
    "        'workcount': 'work_count',\n",
    "        'average_rate': 'author_avg_rating',\n",
    "        'rating_count': 'author_rating_count',\n",
    "        'review_count': 'author_review_count',\n",
    "        'country': 'author_country',\n",
    "        'gender': 'sex'}\n",
    "authors.rename(columns = cols, inplace = True)"
   ]
  },
  {
   "cell_type": "markdown",
   "id": "8e39912f",
   "metadata": {},
   "source": [
    "#### Data Overview I"
   ]
  },
  {
   "cell_type": "code",
   "execution_count": 3,
   "id": "57237463",
   "metadata": {},
   "outputs": [
    {
     "name": "stdout",
     "output_type": "stream",
     "text": [
      "<class 'pandas.core.frame.DataFrame'>\n",
      "RangeIndex: 209517 entries, 0 to 209516\n",
      "Data columns (total 7 columns):\n",
      " #   Column               Non-Null Count   Dtype  \n",
      "---  ------               --------------   -----  \n",
      " 0   author               209517 non-null  object \n",
      " 1   work_count           209517 non-null  int64  \n",
      " 2   sex                  209517 non-null  object \n",
      " 3   author_avg_rating    209517 non-null  float64\n",
      " 4   author_rating_count  209517 non-null  int64  \n",
      " 5   author_review_count  209517 non-null  int64  \n",
      " 6   author_country       44599 non-null   object \n",
      "dtypes: float64(1), int64(3), object(3)\n",
      "memory usage: 11.2+ MB\n"
     ]
    }
   ],
   "source": [
    "authors.info()"
   ]
  },
  {
   "cell_type": "code",
   "execution_count": 4,
   "id": "85209b3d",
   "metadata": {},
   "outputs": [
    {
     "data": {
      "text/html": [
       "<div>\n",
       "<style scoped>\n",
       "    .dataframe tbody tr th:only-of-type {\n",
       "        vertical-align: middle;\n",
       "    }\n",
       "\n",
       "    .dataframe tbody tr th {\n",
       "        vertical-align: top;\n",
       "    }\n",
       "\n",
       "    .dataframe thead th {\n",
       "        text-align: right;\n",
       "    }\n",
       "</style>\n",
       "<table border=\"1\" class=\"dataframe\">\n",
       "  <thead>\n",
       "    <tr style=\"text-align: right;\">\n",
       "      <th></th>\n",
       "      <th>author</th>\n",
       "      <th>work_count</th>\n",
       "      <th>sex</th>\n",
       "      <th>author_avg_rating</th>\n",
       "      <th>author_rating_count</th>\n",
       "      <th>author_review_count</th>\n",
       "      <th>author_country</th>\n",
       "    </tr>\n",
       "  </thead>\n",
       "  <tbody>\n",
       "    <tr>\n",
       "      <th>0</th>\n",
       "      <td>Jason   Wallace</td>\n",
       "      <td>2</td>\n",
       "      <td>male</td>\n",
       "      <td>3.74</td>\n",
       "      <td>1028</td>\n",
       "      <td>175</td>\n",
       "      <td>United Kingdom</td>\n",
       "    </tr>\n",
       "    <tr>\n",
       "      <th>1</th>\n",
       "      <td>Rosan Hollak</td>\n",
       "      <td>4</td>\n",
       "      <td>unknown</td>\n",
       "      <td>3.73</td>\n",
       "      <td>15</td>\n",
       "      <td>1</td>\n",
       "      <td>NaN</td>\n",
       "    </tr>\n",
       "    <tr>\n",
       "      <th>2</th>\n",
       "      <td>Nanna Foss</td>\n",
       "      <td>6</td>\n",
       "      <td>female</td>\n",
       "      <td>4.35</td>\n",
       "      <td>1172</td>\n",
       "      <td>205</td>\n",
       "      <td>NaN</td>\n",
       "    </tr>\n",
       "    <tr>\n",
       "      <th>3</th>\n",
       "      <td>Terri Savelle Foy</td>\n",
       "      <td>23</td>\n",
       "      <td>female</td>\n",
       "      <td>4.56</td>\n",
       "      <td>1054</td>\n",
       "      <td>151</td>\n",
       "      <td>NaN</td>\n",
       "    </tr>\n",
       "    <tr>\n",
       "      <th>4</th>\n",
       "      <td>Vishwas Nangare Patil</td>\n",
       "      <td>1</td>\n",
       "      <td>unknown</td>\n",
       "      <td>4.15</td>\n",
       "      <td>725</td>\n",
       "      <td>43</td>\n",
       "      <td>NaN</td>\n",
       "    </tr>\n",
       "  </tbody>\n",
       "</table>\n",
       "</div>"
      ],
      "text/plain": [
       "                  author  work_count      sex  author_avg_rating  \\\n",
       "0        Jason   Wallace           2     male               3.74   \n",
       "1           Rosan Hollak           4  unknown               3.73   \n",
       "2             Nanna Foss           6   female               4.35   \n",
       "3      Terri Savelle Foy          23   female               4.56   \n",
       "4  Vishwas Nangare Patil           1  unknown               4.15   \n",
       "\n",
       "   author_rating_count  author_review_count  author_country  \n",
       "0                 1028                  175  United Kingdom  \n",
       "1                   15                    1             NaN  \n",
       "2                 1172                  205             NaN  \n",
       "3                 1054                  151             NaN  \n",
       "4                  725                   43             NaN  "
      ]
     },
     "execution_count": 4,
     "metadata": {},
     "output_type": "execute_result"
    }
   ],
   "source": [
    "authors.head()"
   ]
  },
  {
   "cell_type": "markdown",
   "id": "0ad19e58",
   "metadata": {},
   "source": [
    "#### String Cleaning"
   ]
  },
  {
   "cell_type": "code",
   "execution_count": 5,
   "id": "1b1d8287",
   "metadata": {},
   "outputs": [
    {
     "name": "stderr",
     "output_type": "stream",
     "text": [
      "<ipython-input-5-13bda8c57eac>:8: FutureWarning: The default value of regex will change from True to False in a future version.\n",
      "  authors[c] = authors[c].str.replace(r\" +\", \" \")\n"
     ]
    }
   ],
   "source": [
    "cols = ['author','sex','author_country']\n",
    "\n",
    "# lowercase, strip spaces from ends\n",
    "authors[cols] = authors[cols].apply(func = lambda x: x.str.lower().str.strip(), axis = 1)\n",
    "\n",
    "# strip spaces between ends\n",
    "for c in cols:\n",
    "    authors[c] = authors[c].str.replace(r\" +\", \" \")\n",
    "    \n",
    "\n",
    "# Authors: Drop authors with unknown sex -------------------------------------------------\n",
    "authors.drop(authors[authors['sex'] == 'unknown'].index, inplace = True)\n",
    "authors.reset_index(drop = True, inplace = True)"
   ]
  },
  {
   "cell_type": "markdown",
   "id": "1b018547",
   "metadata": {},
   "source": [
    "#### Handling Missing Values (WIP)"
   ]
  },
  {
   "cell_type": "code",
   "execution_count": 6,
   "id": "3de35854",
   "metadata": {},
   "outputs": [
    {
     "name": "stdout",
     "output_type": "stream",
     "text": [
      "Null records \n",
      "\n",
      "author: 0\n",
      "work_count: 0\n",
      "sex: 0\n",
      "author_avg_rating: 0\n",
      "author_rating_count: 0\n",
      "author_review_count: 0\n",
      "author_country: 49626\n"
     ]
    }
   ],
   "source": [
    "print(f\"Null records \\n\")\n",
    "for c in authors.columns:\n",
    "    i = authors[authors[c].isnull()].shape[0]\n",
    "    print(f\"{c}: {i}\")"
   ]
  },
  {
   "cell_type": "markdown",
   "id": "1e87c238",
   "metadata": {},
   "source": [
    "Losing author country will lead to great data loss; let's review:"
   ]
  },
  {
   "cell_type": "code",
   "execution_count": 7,
   "id": "5a1645d5",
   "metadata": {},
   "outputs": [
    {
     "data": {
      "text/plain": [
       "united states             16718\n",
       "united kingdom             4425\n",
       "canada                     1276\n",
       "france                     1006\n",
       "germany                     924\n",
       "                          ...  \n",
       "andorra                       1\n",
       "bhutan                        1\n",
       "macao                         1\n",
       "congo republic                1\n",
       "svalbard and jan mayen        1\n",
       "Name: author_country, Length: 210, dtype: int64"
      ]
     },
     "execution_count": 7,
     "metadata": {},
     "output_type": "execute_result"
    }
   ],
   "source": [
    "authors['author_country'].value_counts()"
   ]
  },
  {
   "cell_type": "markdown",
   "id": "7f894734",
   "metadata": {},
   "source": [
    "*Observation*: There is data imbalance considering author country. \n",
    "\n",
    "*Action*: We will discard author country from our analysis instead of dropping records with null values. This way, we will not be making any inference based on country."
   ]
  },
  {
   "cell_type": "code",
   "execution_count": 8,
   "id": "86f44667",
   "metadata": {},
   "outputs": [],
   "source": [
    "authors.drop(axis = 1, columns = 'author_country',inplace = True)"
   ]
  },
  {
   "cell_type": "markdown",
   "id": "11de3d24",
   "metadata": {},
   "source": [
    "#### Data Overview II"
   ]
  },
  {
   "cell_type": "code",
   "execution_count": 9,
   "id": "dc9ce89d",
   "metadata": {},
   "outputs": [
    {
     "name": "stdout",
     "output_type": "stream",
     "text": [
      "<class 'pandas.core.frame.DataFrame'>\n",
      "RangeIndex: 88544 entries, 0 to 88543\n",
      "Data columns (total 6 columns):\n",
      " #   Column               Non-Null Count  Dtype  \n",
      "---  ------               --------------  -----  \n",
      " 0   author               88544 non-null  object \n",
      " 1   work_count           88544 non-null  int64  \n",
      " 2   sex                  88544 non-null  object \n",
      " 3   author_avg_rating    88544 non-null  float64\n",
      " 4   author_rating_count  88544 non-null  int64  \n",
      " 5   author_review_count  88544 non-null  int64  \n",
      "dtypes: float64(1), int64(3), object(2)\n",
      "memory usage: 4.1+ MB\n"
     ]
    }
   ],
   "source": [
    "authors.info()"
   ]
  },
  {
   "cell_type": "code",
   "execution_count": 10,
   "id": "ce87461a",
   "metadata": {},
   "outputs": [
    {
     "data": {
      "text/html": [
       "<div>\n",
       "<style scoped>\n",
       "    .dataframe tbody tr th:only-of-type {\n",
       "        vertical-align: middle;\n",
       "    }\n",
       "\n",
       "    .dataframe tbody tr th {\n",
       "        vertical-align: top;\n",
       "    }\n",
       "\n",
       "    .dataframe thead th {\n",
       "        text-align: right;\n",
       "    }\n",
       "</style>\n",
       "<table border=\"1\" class=\"dataframe\">\n",
       "  <thead>\n",
       "    <tr style=\"text-align: right;\">\n",
       "      <th></th>\n",
       "      <th>author</th>\n",
       "      <th>work_count</th>\n",
       "      <th>sex</th>\n",
       "      <th>author_avg_rating</th>\n",
       "      <th>author_rating_count</th>\n",
       "      <th>author_review_count</th>\n",
       "    </tr>\n",
       "  </thead>\n",
       "  <tbody>\n",
       "    <tr>\n",
       "      <th>0</th>\n",
       "      <td>jason wallace</td>\n",
       "      <td>2</td>\n",
       "      <td>male</td>\n",
       "      <td>3.74</td>\n",
       "      <td>1028</td>\n",
       "      <td>175</td>\n",
       "    </tr>\n",
       "    <tr>\n",
       "      <th>1</th>\n",
       "      <td>nanna foss</td>\n",
       "      <td>6</td>\n",
       "      <td>female</td>\n",
       "      <td>4.35</td>\n",
       "      <td>1172</td>\n",
       "      <td>205</td>\n",
       "    </tr>\n",
       "    <tr>\n",
       "      <th>2</th>\n",
       "      <td>terri savelle foy</td>\n",
       "      <td>23</td>\n",
       "      <td>female</td>\n",
       "      <td>4.56</td>\n",
       "      <td>1054</td>\n",
       "      <td>151</td>\n",
       "    </tr>\n",
       "    <tr>\n",
       "      <th>3</th>\n",
       "      <td>phil hamman</td>\n",
       "      <td>6</td>\n",
       "      <td>male</td>\n",
       "      <td>3.83</td>\n",
       "      <td>1340</td>\n",
       "      <td>193</td>\n",
       "    </tr>\n",
       "    <tr>\n",
       "      <th>4</th>\n",
       "      <td>august turak</td>\n",
       "      <td>3</td>\n",
       "      <td>male</td>\n",
       "      <td>4.34</td>\n",
       "      <td>274</td>\n",
       "      <td>49</td>\n",
       "    </tr>\n",
       "  </tbody>\n",
       "</table>\n",
       "</div>"
      ],
      "text/plain": [
       "              author  work_count     sex  author_avg_rating  \\\n",
       "0      jason wallace           2    male               3.74   \n",
       "1         nanna foss           6  female               4.35   \n",
       "2  terri savelle foy          23  female               4.56   \n",
       "3        phil hamman           6    male               3.83   \n",
       "4       august turak           3    male               4.34   \n",
       "\n",
       "   author_rating_count  author_review_count  \n",
       "0                 1028                  175  \n",
       "1                 1172                  205  \n",
       "2                 1054                  151  \n",
       "3                 1340                  193  \n",
       "4                  274                   49  "
      ]
     },
     "execution_count": 10,
     "metadata": {},
     "output_type": "execute_result"
    }
   ],
   "source": [
    "authors.head()"
   ]
  },
  {
   "cell_type": "markdown",
   "id": "11cbded8",
   "metadata": {},
   "source": [
    "#### Data Download"
   ]
  },
  {
   "cell_type": "code",
   "execution_count": 11,
   "id": "ae167eb3",
   "metadata": {},
   "outputs": [],
   "source": [
    "# Download processed authors data --------------------------------------------------\n",
    "authors.to_csv('authors_processed.csv')"
   ]
  },
  {
   "cell_type": "code",
   "execution_count": null,
   "id": "24e19edc",
   "metadata": {},
   "outputs": [],
   "source": []
  }
 ],
 "metadata": {
  "kernelspec": {
   "display_name": "Python 3",
   "language": "python",
   "name": "python3"
  },
  "language_info": {
   "codemirror_mode": {
    "name": "ipython",
    "version": 3
   },
   "file_extension": ".py",
   "mimetype": "text/x-python",
   "name": "python",
   "nbconvert_exporter": "python",
   "pygments_lexer": "ipython3",
   "version": "3.8.8"
  }
 },
 "nbformat": 4,
 "nbformat_minor": 5
}
