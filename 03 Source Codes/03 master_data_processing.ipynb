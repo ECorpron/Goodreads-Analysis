{
 "cells": [
  {
   "cell_type": "markdown",
   "id": "f13a05d9",
   "metadata": {},
   "source": [
    "## Master Data Preparation for Statistical Analysis\n",
    "\n",
    "This Jupyter notebook merges processed books and authors datasets, and prepares the master data for performing hypothesis testing, including basic data cleaning and feature generation."
   ]
  },
  {
   "cell_type": "markdown",
   "id": "60ca2a0e",
   "metadata": {},
   "source": [
    "#### Import Libraries"
   ]
  },
  {
   "cell_type": "code",
   "execution_count": 63,
   "id": "799ed9e2",
   "metadata": {},
   "outputs": [],
   "source": [
    "import pandas as pd\n",
    "import math\n",
    "import matplotlib.pyplot as plt\n",
    "import seaborn as sns"
   ]
  },
  {
   "cell_type": "markdown",
   "id": "6fa2dc7a",
   "metadata": {},
   "source": [
    "#### Data Upload & Merge"
   ]
  },
  {
   "cell_type": "code",
   "execution_count": 64,
   "id": "cf0b6414",
   "metadata": {},
   "outputs": [
    {
     "name": "stdout",
     "output_type": "stream",
     "text": [
      "<class 'pandas.core.frame.DataFrame'>\n",
      "Int64Index: 35121 entries, 0 to 35120\n",
      "Data columns (total 20 columns):\n",
      " #   Column               Non-Null Count  Dtype  \n",
      "---  ------               --------------  -----  \n",
      " 0   title                35121 non-null  object \n",
      " 1   series               17959 non-null  object \n",
      " 2   author               35121 non-null  object \n",
      " 3   rating_count         35121 non-null  int64  \n",
      " 4   review_count         35121 non-null  int64  \n",
      " 5   average_rating       35121 non-null  float64\n",
      " 6   five_star_ratings    35121 non-null  int64  \n",
      " 7   four_star_ratings    35121 non-null  int64  \n",
      " 8   three_star_ratings   35121 non-null  int64  \n",
      " 9   two_star_ratings     35121 non-null  int64  \n",
      " 10  one_star_ratings     35121 non-null  int64  \n",
      " 11  page_count           35121 non-null  float64\n",
      " 12  published_year       35121 non-null  int64  \n",
      " 13  genre                35121 non-null  object \n",
      " 14  is_volume            35121 non-null  object \n",
      " 15  sex                  35121 non-null  object \n",
      " 16  work_count           35121 non-null  int64  \n",
      " 17  author_avg_rating    35121 non-null  float64\n",
      " 18  author_rating_count  35121 non-null  int64  \n",
      " 19  author_review_count  35121 non-null  int64  \n",
      "dtypes: float64(3), int64(11), object(6)\n",
      "memory usage: 5.6+ MB\n"
     ]
    }
   ],
   "source": [
    "books_path = \"C:\\\\Users\\\\juhic\\\\OneDrive\\\\Desktop\\\\books_processed.csv\"\n",
    "authors_path = \"C:\\\\Users\\\\juhic\\\\OneDrive\\\\Desktop\\\\authors_processed.csv\"\n",
    "books = pd.read_csv(books_path)\n",
    "authors = pd.read_csv(authors_path)\n",
    "\n",
    "books.drop(columns = 'Unnamed: 0', axis = 1, inplace = True)\n",
    "authors.drop(columns = 'Unnamed: 0', axis = 1, inplace = True)\n",
    "\n",
    "data = pd.merge(left = books, right = authors, how = 'inner', on = 'author')\n",
    "data.info()"
   ]
  },
  {
   "cell_type": "markdown",
   "id": "ce63b9eb",
   "metadata": {},
   "source": [
    "#### Type Conversions"
   ]
  },
  {
   "cell_type": "code",
   "execution_count": 65,
   "id": "0cb4d973",
   "metadata": {},
   "outputs": [],
   "source": [
    "cols = ['page_count','author_rating_count','work_count']\n",
    "for c in cols:\n",
    "    data.loc[data[c].isna(),c] = 0\n",
    "    data[c] = data[c].astype(int)"
   ]
  },
  {
   "cell_type": "markdown",
   "id": "3e5ae40d",
   "metadata": {},
   "source": [
    "#### Data Cleaning"
   ]
  },
  {
   "cell_type": "code",
   "execution_count": 66,
   "id": "fb851e8e",
   "metadata": {},
   "outputs": [
    {
     "data": {
      "text/plain": [
       "alexis hall        2\n",
       "j.a. baker         2\n",
       "morgan parker      2\n",
       "lee smith          2\n",
       "robin hardy        2\n",
       "samantha berger    1\n",
       "emma smith         1\n",
       "asa don brown      1\n",
       "nancy atherton     1\n",
       "paul muldoon       1\n",
       "Name: author, dtype: int64"
      ]
     },
     "execution_count": 66,
     "metadata": {},
     "output_type": "execute_result"
    }
   ],
   "source": [
    "# Fixing duplicate author information\n",
    "\n",
    "x = data[['author','work_count']].drop_duplicates()\n",
    "t = x['author'].value_counts()\n",
    "t.head(10)"
   ]
  },
  {
   "cell_type": "code",
   "execution_count": 67,
   "id": "4745a319",
   "metadata": {},
   "outputs": [],
   "source": [
    "i1 = data[(data['author'] == 'alexis hall') & (data['sex'] == 'female')].index\n",
    "i2 = data[(data['author'] == 'j.a. baker') & (data['sex'] == 'male')].index\n",
    "i3 = data[(data['author'] == 'morgan parker') & (data['sex'] == 'male')].index\n",
    "i4 = data[(data['author'] == 'lee smith') & (data['sex'] == 'male')].index\n",
    "i5 = data[(data['author'] == 'robin hardy') & (data['sex'] == 'female')].index\n",
    "\n",
    "data.drop(axis = 0, index = i1, inplace = True)\n",
    "data.drop(axis = 0, index = i2, inplace = True)\n",
    "data.drop(axis = 0, index = i3, inplace = True)\n",
    "data.drop(axis = 0, index = i4, inplace = True)\n",
    "data.drop(axis = 0, index = i5, inplace = True)"
   ]
  },
  {
   "cell_type": "code",
   "execution_count": 70,
   "id": "e1046528",
   "metadata": {},
   "outputs": [
    {
     "data": {
      "text/html": [
       "<div>\n",
       "<style scoped>\n",
       "    .dataframe tbody tr th:only-of-type {\n",
       "        vertical-align: middle;\n",
       "    }\n",
       "\n",
       "    .dataframe tbody tr th {\n",
       "        vertical-align: top;\n",
       "    }\n",
       "\n",
       "    .dataframe thead th {\n",
       "        text-align: right;\n",
       "    }\n",
       "</style>\n",
       "<table border=\"1\" class=\"dataframe\">\n",
       "  <thead>\n",
       "    <tr style=\"text-align: right;\">\n",
       "      <th></th>\n",
       "      <th>book</th>\n",
       "      <th>author</th>\n",
       "      <th>rating_count</th>\n",
       "      <th>page_count</th>\n",
       "      <th>genre</th>\n",
       "      <th>is_volume</th>\n",
       "      <th>author_sex</th>\n",
       "      <th>author_work_count</th>\n",
       "      <th>author_avg_rating</th>\n",
       "    </tr>\n",
       "  </thead>\n",
       "  <tbody>\n",
       "    <tr>\n",
       "      <th>0</th>\n",
       "      <td>inner circle</td>\n",
       "      <td>kate brian</td>\n",
       "      <td>7597</td>\n",
       "      <td>220</td>\n",
       "      <td>young adult</td>\n",
       "      <td>yes</td>\n",
       "      <td>female</td>\n",
       "      <td>40</td>\n",
       "      <td>3.93</td>\n",
       "    </tr>\n",
       "    <tr>\n",
       "      <th>1</th>\n",
       "      <td>ambition</td>\n",
       "      <td>kate brian</td>\n",
       "      <td>6719</td>\n",
       "      <td>279</td>\n",
       "      <td>young adult</td>\n",
       "      <td>yes</td>\n",
       "      <td>female</td>\n",
       "      <td>40</td>\n",
       "      <td>3.93</td>\n",
       "    </tr>\n",
       "    <tr>\n",
       "      <th>2</th>\n",
       "      <td>revelation</td>\n",
       "      <td>kate brian</td>\n",
       "      <td>7431</td>\n",
       "      <td>249</td>\n",
       "      <td>young adult</td>\n",
       "      <td>yes</td>\n",
       "      <td>female</td>\n",
       "      <td>40</td>\n",
       "      <td>3.93</td>\n",
       "    </tr>\n",
       "    <tr>\n",
       "      <th>3</th>\n",
       "      <td>legacy</td>\n",
       "      <td>kate brian</td>\n",
       "      <td>7010</td>\n",
       "      <td>243</td>\n",
       "      <td>young adult</td>\n",
       "      <td>yes</td>\n",
       "      <td>female</td>\n",
       "      <td>40</td>\n",
       "      <td>3.93</td>\n",
       "    </tr>\n",
       "    <tr>\n",
       "      <th>4</th>\n",
       "      <td>vanished</td>\n",
       "      <td>kate brian</td>\n",
       "      <td>3724</td>\n",
       "      <td>204</td>\n",
       "      <td>young adult</td>\n",
       "      <td>yes</td>\n",
       "      <td>female</td>\n",
       "      <td>40</td>\n",
       "      <td>3.93</td>\n",
       "    </tr>\n",
       "  </tbody>\n",
       "</table>\n",
       "</div>"
      ],
      "text/plain": [
       "           book      author  rating_count  page_count        genre is_volume  \\\n",
       "0  inner circle  kate brian          7597         220  young adult       yes   \n",
       "1      ambition  kate brian          6719         279  young adult       yes   \n",
       "2    revelation  kate brian          7431         249  young adult       yes   \n",
       "3        legacy  kate brian          7010         243  young adult       yes   \n",
       "4      vanished  kate brian          3724         204  young adult       yes   \n",
       "\n",
       "  author_sex  author_work_count  author_avg_rating  \n",
       "0     female                 40               3.93  \n",
       "1     female                 40               3.93  \n",
       "2     female                 40               3.93  \n",
       "3     female                 40               3.93  \n",
       "4     female                 40               3.93  "
      ]
     },
     "execution_count": 70,
     "metadata": {},
     "output_type": "execute_result"
    }
   ],
   "source": [
    "# Dropping columns that are not required\n",
    "drop_cols = ['series',\n",
    "             'review_count',\n",
    "             'average_rating',\n",
    "             'five_star_ratings',\n",
    "             'four_star_ratings',\n",
    "             'three_star_ratings',\n",
    "             'two_star_ratings',\n",
    "             'one_star_ratings',\n",
    "             'author_review_count',\n",
    "             'published_year',\n",
    "             'author_rating_count']\n",
    "data.drop(axis = 1, columns = drop_cols, inplace = True)\n",
    "\n",
    "data.rename(columns = {'title':'book',\n",
    "                       'work_count':'author_work_count',\n",
    "                       'sex':'author_sex'}, inplace = True)\n",
    "\n",
    "# Removing non-book records (audiobooks, collections poetry etc.)\n",
    "mask1 = data['page_count'] < 10\n",
    "mask2 = data['page_count'] >= 5000\n",
    "data.drop(axis = 0, index = data[mask1 | mask2].index, inplace = True)\n",
    "\n",
    "list_genre = ['audiobook','poetry','plays']\n",
    "data.drop(axis = 0, index = data[data['genre'].isin(list_genre)].index, inplace = True)\n",
    "\n",
    "list_books = ['series','box set','boxed set','volume set','vol.set','volumes','complete collection']\n",
    "data.drop(axis = 0, index = data[data['book'].isin(list_books)].index, inplace = True)\n",
    "data.head()"
   ]
  },
  {
   "cell_type": "markdown",
   "id": "f12dfd7c",
   "metadata": {},
   "source": [
    "#### Feature Extraction: Classification for Author work experience and Book page count."
   ]
  },
  {
   "cell_type": "code",
   "execution_count": 71,
   "id": "15be69f7",
   "metadata": {},
   "outputs": [
    {
     "data": {
      "image/png": "[encoded data removed]",
      "text/plain": [
       "<Figure size 864x288 with 2 Axes>"
      ]
     },
     "metadata": {
      "needs_background": "light"
     },
     "output_type": "display_data"
    }
   ],
   "source": [
    "#1. Author Sex\n",
    "\n",
    "fig, ax = plt.subplots(nrows = 1, ncols = 2, figsize = (12,4))\n",
    "\n",
    "sns.countplot(data = data, x = 'author_sex', order = ['male','female'], ax = ax[0])\n",
    "ax[0].set_title('Proportion of data in Sample')\n",
    "\n",
    "sex = data[['author','author_sex']].drop_duplicates().groupby(by = 'author_sex').agg({'author':'count'}).reset_index()\n",
    "sns.barplot(x = 'author_sex', y = 'author', data = sex, order = ['male','female'], ax = ax[1])\n",
    "ax[1].set_title('#Author')\n",
    "\n",
    "plt.show()"
   ]
  },
  {
   "cell_type": "code",
   "execution_count": 72,
   "id": "48efafae",
   "metadata": {},
   "outputs": [
    {
     "data": {
      "image/png": "[encoded data removed]",
      "text/plain": [
       "<Figure size 864x288 with 2 Axes>"
      ]
     },
     "metadata": {
      "needs_background": "light"
     },
     "output_type": "display_data"
    }
   ],
   "source": [
    "# Author Work Experience\n",
    "\n",
    "data['log2_author_work_count'] = data['author_work_count'].apply(lambda x: math.log2(x+1))\n",
    "\n",
    "fig, ax = plt.subplots(nrows = 1, ncols = 2, figsize = (12, 4))\n",
    "sns.histplot(data = data, x = 'author_work_count', ax = ax[0])\n",
    "sns.histplot(data = data, x = 'log2_author_work_count', ax = ax[1])\n",
    "plt.show()"
   ]
  },
  {
   "cell_type": "code",
   "execution_count": 73,
   "id": "403e091d",
   "metadata": {},
   "outputs": [
    {
     "data": {
      "image/png": "[encoded data removed]",
      "text/plain": [
       "<Figure size 864x288 with 2 Axes>"
      ]
     },
     "metadata": {
      "needs_background": "light"
     },
     "output_type": "display_data"
    }
   ],
   "source": [
    "def classify_work_exp(x):\n",
    "    if x < 4:\n",
    "        return 'newbie'\n",
    "    elif x >= 4 and x <= 8:\n",
    "        return 'average'\n",
    "    else:\n",
    "        return 'experienced'\n",
    "    \n",
    "data['author_exp'] = data['log2_author_work_count'].apply(func = lambda x: classify_work_exp(x))\n",
    "\n",
    "fig, ax = plt.subplots(nrows = 1, ncols = 2, figsize = (12,4))\n",
    "\n",
    "exp = data[['author','author_exp']].drop_duplicates().groupby(by = 'author_exp').agg({'author':'count'}).reset_index()\n",
    "sns.barplot(x = 'author_exp', y = 'author', data = exp, order = ['newbie', 'average', 'experienced'], ax =  ax[0])\n",
    "ax[0].set_title('#Authors')\n",
    "\n",
    "sns.countplot(data = data, x = 'author_exp', order = ['newbie', 'average', 'experienced'], ax = ax[1])\n",
    "ax[1].set_title('Proportion of data in Sample')\n",
    "\n",
    "plt.show()"
   ]
  },
  {
   "cell_type": "code",
   "execution_count": 74,
   "id": "06629d2e",
   "metadata": {},
   "outputs": [
    {
     "data": {
      "image/png": "[encoded data removed]",
      "text/plain": [
       "<Figure size 1296x288 with 3 Axes>"
      ]
     },
     "metadata": {
      "needs_background": "light"
     },
     "output_type": "display_data"
    }
   ],
   "source": [
    "#3. Book Size\n",
    "\n",
    "def classify_book_size(x):\n",
    "    if x < 200:\n",
    "        return 'light'\n",
    "    elif x >= 200 and x <= 400:\n",
    "        return 'average'\n",
    "    else:\n",
    "        return 'bulky'\n",
    "    \n",
    "data['book_size'] = data['page_count'].apply(func = lambda x: classify_book_size(x))\n",
    "\n",
    "fig, ax = plt.subplots(nrows = 1, ncols = 3, figsize = (18,4))\n",
    "\n",
    "sns.histplot(data = data, x = 'page_count', ax = ax[0])\n",
    "\n",
    "size = data[['book','book_size']].drop_duplicates().groupby(by = 'book_size').agg({'book':'count'}).reset_index()\n",
    "sns.barplot(x = 'book_size', y = 'book', data = size, order = ['light', 'average', 'bulky'], ax =  ax[1])\n",
    "ax[1].set_title('#Books')\n",
    "\n",
    "sns.countplot(data = data, x = 'book_size', order = ['light', 'average', 'bulky'], ax = ax[2])\n",
    "ax[2].set_title('Proportion of data in Sample')\n",
    "\n",
    "plt.show()"
   ]
  },
  {
   "cell_type": "code",
   "execution_count": 75,
   "id": "270ca7d2",
   "metadata": {},
   "outputs": [
    {
     "data": {
      "image/png": "[encoded data removed]",
      "text/plain": [
       "<Figure size 864x288 with 2 Axes>"
      ]
     },
     "metadata": {
      "needs_background": "light"
     },
     "output_type": "display_data"
    }
   ],
   "source": [
    "#4. Genre Mapping\n",
    "genre = pd.read_csv('C:\\\\Users\\\\juhic\\\\OneDrive\\\\Desktop\\\\genre mapping.csv')\n",
    "data_merged = pd.merge(left = data, right = genre, how = 'inner', on = 'genre')\n",
    "\n",
    "fig, ax = plt.subplots(nrows = 1, ncols = 2, figsize = (12,4))\n",
    "\n",
    "sns.countplot(data = data_merged, x = 'genre_category', order = ['fiction', 'non-fiction', 'others'], ax = ax[0])\n",
    "ax[0].set_title('Proportion of data in Sample')\n",
    "\n",
    "genre=data_merged[['book','genre_category']].drop_duplicates().groupby(by='genre_category').agg({'book':'count'}).reset_index()\n",
    "sns.barplot(x = 'genre_category', y = 'book', data = genre, order = ['fiction', 'non-fiction', 'others'], ax = ax[1])\n",
    "ax[1].set_title('#Books')\n",
    "plt.show()"
   ]
  },
  {
   "cell_type": "markdown",
   "id": "0c74c00c",
   "metadata": {},
   "source": [
    "#### Data Download"
   ]
  },
  {
   "cell_type": "code",
   "execution_count": 76,
   "id": "c40cd5bf",
   "metadata": {},
   "outputs": [
    {
     "data": {
      "text/html": [
       "<div>\n",
       "<style scoped>\n",
       "    .dataframe tbody tr th:only-of-type {\n",
       "        vertical-align: middle;\n",
       "    }\n",
       "\n",
       "    .dataframe tbody tr th {\n",
       "        vertical-align: top;\n",
       "    }\n",
       "\n",
       "    .dataframe thead th {\n",
       "        text-align: right;\n",
       "    }\n",
       "</style>\n",
       "<table border=\"1\" class=\"dataframe\">\n",
       "  <thead>\n",
       "    <tr style=\"text-align: right;\">\n",
       "      <th></th>\n",
       "      <th>book</th>\n",
       "      <th>author</th>\n",
       "      <th>rating_count</th>\n",
       "      <th>page_count</th>\n",
       "      <th>genre</th>\n",
       "      <th>is_volume</th>\n",
       "      <th>author_sex</th>\n",
       "      <th>author_work_count</th>\n",
       "      <th>author_avg_rating</th>\n",
       "      <th>log2_author_work_count</th>\n",
       "      <th>author_exp</th>\n",
       "      <th>book_size</th>\n",
       "      <th>genre_category</th>\n",
       "    </tr>\n",
       "  </thead>\n",
       "  <tbody>\n",
       "    <tr>\n",
       "      <th>0</th>\n",
       "      <td>inner circle</td>\n",
       "      <td>kate brian</td>\n",
       "      <td>7597</td>\n",
       "      <td>220</td>\n",
       "      <td>young adult</td>\n",
       "      <td>yes</td>\n",
       "      <td>female</td>\n",
       "      <td>40</td>\n",
       "      <td>3.93</td>\n",
       "      <td>5.357552</td>\n",
       "      <td>average</td>\n",
       "      <td>average</td>\n",
       "      <td>fiction</td>\n",
       "    </tr>\n",
       "    <tr>\n",
       "      <th>1</th>\n",
       "      <td>ambition</td>\n",
       "      <td>kate brian</td>\n",
       "      <td>6719</td>\n",
       "      <td>279</td>\n",
       "      <td>young adult</td>\n",
       "      <td>yes</td>\n",
       "      <td>female</td>\n",
       "      <td>40</td>\n",
       "      <td>3.93</td>\n",
       "      <td>5.357552</td>\n",
       "      <td>average</td>\n",
       "      <td>average</td>\n",
       "      <td>fiction</td>\n",
       "    </tr>\n",
       "    <tr>\n",
       "      <th>2</th>\n",
       "      <td>revelation</td>\n",
       "      <td>kate brian</td>\n",
       "      <td>7431</td>\n",
       "      <td>249</td>\n",
       "      <td>young adult</td>\n",
       "      <td>yes</td>\n",
       "      <td>female</td>\n",
       "      <td>40</td>\n",
       "      <td>3.93</td>\n",
       "      <td>5.357552</td>\n",
       "      <td>average</td>\n",
       "      <td>average</td>\n",
       "      <td>fiction</td>\n",
       "    </tr>\n",
       "    <tr>\n",
       "      <th>3</th>\n",
       "      <td>legacy</td>\n",
       "      <td>kate brian</td>\n",
       "      <td>7010</td>\n",
       "      <td>243</td>\n",
       "      <td>young adult</td>\n",
       "      <td>yes</td>\n",
       "      <td>female</td>\n",
       "      <td>40</td>\n",
       "      <td>3.93</td>\n",
       "      <td>5.357552</td>\n",
       "      <td>average</td>\n",
       "      <td>average</td>\n",
       "      <td>fiction</td>\n",
       "    </tr>\n",
       "    <tr>\n",
       "      <th>4</th>\n",
       "      <td>vanished</td>\n",
       "      <td>kate brian</td>\n",
       "      <td>3724</td>\n",
       "      <td>204</td>\n",
       "      <td>young adult</td>\n",
       "      <td>yes</td>\n",
       "      <td>female</td>\n",
       "      <td>40</td>\n",
       "      <td>3.93</td>\n",
       "      <td>5.357552</td>\n",
       "      <td>average</td>\n",
       "      <td>average</td>\n",
       "      <td>fiction</td>\n",
       "    </tr>\n",
       "  </tbody>\n",
       "</table>\n",
       "</div>"
      ],
      "text/plain": [
       "           book      author  rating_count  page_count        genre is_volume  \\\n",
       "0  inner circle  kate brian          7597         220  young adult       yes   \n",
       "1      ambition  kate brian          6719         279  young adult       yes   \n",
       "2    revelation  kate brian          7431         249  young adult       yes   \n",
       "3        legacy  kate brian          7010         243  young adult       yes   \n",
       "4      vanished  kate brian          3724         204  young adult       yes   \n",
       "\n",
       "  author_sex  author_work_count  author_avg_rating  log2_author_work_count  \\\n",
       "0     female                 40               3.93                5.357552   \n",
       "1     female                 40               3.93                5.357552   \n",
       "2     female                 40               3.93                5.357552   \n",
       "3     female                 40               3.93                5.357552   \n",
       "4     female                 40               3.93                5.357552   \n",
       "\n",
       "  author_exp book_size genre_category  \n",
       "0    average   average        fiction  \n",
       "1    average   average        fiction  \n",
       "2    average   average        fiction  \n",
       "3    average   average        fiction  \n",
       "4    average   average        fiction  "
      ]
     },
     "execution_count": 76,
     "metadata": {},
     "output_type": "execute_result"
    }
   ],
   "source": [
    "data_merged.head()"
   ]
  },
  {
   "cell_type": "code",
   "execution_count": 77,
   "id": "e6e1fd8c",
   "metadata": {},
   "outputs": [],
   "source": [
    "# Download merged dataset\n",
    "data_merged.to_csv('master_dataset.csv')"
   ]
  },
  {
   "cell_type": "code",
   "execution_count": null,
   "id": "17bdf157",
   "metadata": {},
   "outputs": [],
   "source": []
  }
 ],
 "metadata": {
  "kernelspec": {
   "display_name": "Python 3",
   "language": "python",
   "name": "python3"
  },
  "language_info": {
   "codemirror_mode": {
    "name": "ipython",
    "version": 3
   },
   "file_extension": ".py",
   "mimetype": "text/x-python",
   "name": "python",
   "nbconvert_exporter": "python",
   "pygments_lexer": "ipython3",
   "version": "3.8.8"
  }
 },
 "nbformat": 4,
 "nbformat_minor": 5
}
