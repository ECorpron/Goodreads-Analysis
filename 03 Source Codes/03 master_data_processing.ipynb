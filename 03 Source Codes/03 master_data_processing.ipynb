{
 "cells": [
  {
   "cell_type": "markdown",
   "id": "f13a05d9",
   "metadata": {},
   "source": [
    "## Master Data Preparation for Statistical Analysis\n",
    "\n",
    "This Jupyter notebook merges processed books and authors datasets, and prepares the master data for performing hypothesis testing, including basic data cleaning and feature generation."
   ]
  },
  {
   "cell_type": "markdown",
   "id": "60ca2a0e",
   "metadata": {},
   "source": [
    "#### Import Libraries"
   ]
  },
  {
   "cell_type": "code",
   "execution_count": 1,
   "id": "799ed9e2",
   "metadata": {},
   "outputs": [],
   "source": [
    "import pandas as pd"
   ]
  },
  {
   "cell_type": "markdown",
   "id": "6fa2dc7a",
   "metadata": {},
   "source": [
    "#### Data Upload"
   ]
  },
  {
   "cell_type": "code",
   "execution_count": 3,
   "id": "cf0b6414",
   "metadata": {},
   "outputs": [],
   "source": [
    "books_path = \"C:\\\\Users\\\\juhic\\\\OneDrive\\\\Desktop\\\\books_processed.csv\"\n",
    "authors_path = \"C:\\\\Users\\\\juhic\\\\OneDrive\\\\Desktop\\\\authors_processed.csv\"\n",
    "books = pd.read_csv(books_path)\n",
    "authors = pd.read_csv(authors_path)\n",
    "\n",
    "books.drop(columns = 'Unnamed: 0', axis = 1, inplace = True)\n",
    "authors.drop(columns = 'Unnamed: 0', axis = 1, inplace = True)"
   ]
  },
  {
   "cell_type": "markdown",
   "id": "f6f0ec55",
   "metadata": {},
   "source": [
    "#### Merge "
   ]
  },
  {
   "cell_type": "code",
   "execution_count": 4,
   "id": "a8b854d2",
   "metadata": {},
   "outputs": [
    {
     "name": "stdout",
     "output_type": "stream",
     "text": [
      "<class 'pandas.core.frame.DataFrame'>\n",
      "Int64Index: 35814 entries, 0 to 35813\n",
      "Data columns (total 20 columns):\n",
      " #   Column               Non-Null Count  Dtype  \n",
      "---  ------               --------------  -----  \n",
      " 0   title                35814 non-null  object \n",
      " 1   series               18309 non-null  object \n",
      " 2   author               35814 non-null  object \n",
      " 3   rating_count         35814 non-null  int64  \n",
      " 4   review_count         35814 non-null  int64  \n",
      " 5   average_rating       35814 non-null  float64\n",
      " 6   five_star_ratings    35814 non-null  int64  \n",
      " 7   four_star_ratings    35814 non-null  int64  \n",
      " 8   three_star_ratings   35814 non-null  int64  \n",
      " 9   two_star_ratings     35814 non-null  int64  \n",
      " 10  one_star_ratings     35814 non-null  int64  \n",
      " 11  page_count           35814 non-null  float64\n",
      " 12  published_year       35814 non-null  int64  \n",
      " 13  genre                35814 non-null  object \n",
      " 14  is_volume            35814 non-null  object \n",
      " 15  work_count           35814 non-null  int64  \n",
      " 16  sex                  35814 non-null  object \n",
      " 17  author_avg_rating    35814 non-null  float64\n",
      " 18  author_rating_count  35814 non-null  int64  \n",
      " 19  author_review_count  35814 non-null  int64  \n",
      "dtypes: float64(3), int64(11), object(6)\n",
      "memory usage: 5.7+ MB\n"
     ]
    }
   ],
   "source": [
    "data = pd.merge(left = books, right = authors, how = 'inner', on = 'author')\n",
    "data.info()"
   ]
  },
  {
   "cell_type": "code",
   "execution_count": 5,
   "id": "0cb4d973",
   "metadata": {},
   "outputs": [],
   "source": [
    "cols = ['page_count','author_rating_count','work_count']\n",
    "for c in cols:\n",
    "    data.loc[data[c].isna(),c] = 0\n",
    "    data[c] = data[c].astype(int)"
   ]
  },
  {
   "cell_type": "markdown",
   "id": "3e5ae40d",
   "metadata": {},
   "source": [
    "#### Data Cleaning"
   ]
  },
  {
   "cell_type": "code",
   "execution_count": 6,
   "id": "e1046528",
   "metadata": {},
   "outputs": [],
   "source": [
    "# Dropping columns that are not required\n",
    "drop_cols = ['series',\n",
    "             'review_count',\n",
    "             'average_rating',\n",
    "             'five_star_ratings',\n",
    "             'four_star_ratings',\n",
    "             'three_star_ratings',\n",
    "             'two_star_ratings',\n",
    "             'one_star_ratings',\n",
    "             'author_review_count',\n",
    "             'published_year']\n",
    "data.drop(axis = 1, columns = drop_cols, inplace = True)\n",
    "\n",
    "data.rename(columns = {'title':'book',\n",
    "                       'work_count':'author_work_count',\n",
    "                       'sex':'author_sex'}, inplace = True)"
   ]
  },
  {
   "cell_type": "code",
   "execution_count": 7,
   "id": "0ccce390",
   "metadata": {},
   "outputs": [],
   "source": [
    "# Removing non-book records (audiobooks, collections poetry etc.)\n",
    "mask1 = data['page_count'] < 10\n",
    "mask2 = data['page_count'] >= 5000\n",
    "data.drop(axis = 0, index = data[mask1 | mask2].index, inplace = True)\n",
    "\n",
    "list_genre = ['audiobook','poetry','plays']\n",
    "data.drop(axis = 0, index = data[data['genre'].isin(list_genre)].index, inplace = True)\n",
    "\n",
    "list_books = ['series','box set','boxed set','volume set','vol.set','volumes','complete collection']\n",
    "data.drop(axis = 0, index = data[data['book'].isin(list_books)].index, inplace = True)"
   ]
  },
  {
   "cell_type": "code",
   "execution_count": 8,
   "id": "ef3696bb",
   "metadata": {},
   "outputs": [],
   "source": [
    "# Creating derived features required for hypothesis testing\n",
    "\n",
    "#1. Genre Mapping\n",
    "genre = pd.read_csv('C:\\\\Users\\\\juhic\\\\OneDrive\\\\Desktop\\\\genre mapping.csv')\n",
    "data_1 = pd.merge(left = data, right = genre, how = 'inner', on = 'genre')\n",
    "\n",
    "#2. Author Work Count\n",
    "def classify_work_exp(x):\n",
    "    if x < 80:\n",
    "        return 'newbie'\n",
    "    elif x >= 80 & x <= 320:\n",
    "        return 'average'\n",
    "    else:\n",
    "        return 'experienced'\n",
    "\n",
    "data_1['author_exp'] = data_1['author_work_count'].apply(func = lambda x: classify_work_exp(x))\n",
    "\n",
    "#3. Page Count\n",
    "def classify_book_size(x):\n",
    "    if x < 100:\n",
    "        return 'light'\n",
    "    elif x >= 100 & x <= 500:\n",
    "        return 'average'\n",
    "    else:\n",
    "        return 'bulky'\n",
    "\n",
    "data_1['book_size'] = data_1['page_count'].apply(func = lambda x: classify_book_size(x))"
   ]
  },
  {
   "cell_type": "code",
   "execution_count": 9,
   "id": "270ca7d2",
   "metadata": {},
   "outputs": [
    {
     "data": {
      "text/html": [
       "<div>\n",
       "<style scoped>\n",
       "    .dataframe tbody tr th:only-of-type {\n",
       "        vertical-align: middle;\n",
       "    }\n",
       "\n",
       "    .dataframe tbody tr th {\n",
       "        vertical-align: top;\n",
       "    }\n",
       "\n",
       "    .dataframe thead th {\n",
       "        text-align: right;\n",
       "    }\n",
       "</style>\n",
       "<table border=\"1\" class=\"dataframe\">\n",
       "  <thead>\n",
       "    <tr style=\"text-align: right;\">\n",
       "      <th></th>\n",
       "      <th>book</th>\n",
       "      <th>author</th>\n",
       "      <th>rating_count</th>\n",
       "      <th>is_volume</th>\n",
       "      <th>author_sex</th>\n",
       "      <th>genre_category</th>\n",
       "      <th>author_exp</th>\n",
       "      <th>book_size</th>\n",
       "    </tr>\n",
       "  </thead>\n",
       "  <tbody>\n",
       "    <tr>\n",
       "      <th>0</th>\n",
       "      <td>inner circle</td>\n",
       "      <td>kate brian</td>\n",
       "      <td>7597</td>\n",
       "      <td>yes</td>\n",
       "      <td>female</td>\n",
       "      <td>fiction</td>\n",
       "      <td>newbie</td>\n",
       "      <td>average</td>\n",
       "    </tr>\n",
       "    <tr>\n",
       "      <th>1</th>\n",
       "      <td>ambition</td>\n",
       "      <td>kate brian</td>\n",
       "      <td>6719</td>\n",
       "      <td>yes</td>\n",
       "      <td>female</td>\n",
       "      <td>fiction</td>\n",
       "      <td>newbie</td>\n",
       "      <td>average</td>\n",
       "    </tr>\n",
       "    <tr>\n",
       "      <th>2</th>\n",
       "      <td>revelation</td>\n",
       "      <td>kate brian</td>\n",
       "      <td>7431</td>\n",
       "      <td>yes</td>\n",
       "      <td>female</td>\n",
       "      <td>fiction</td>\n",
       "      <td>newbie</td>\n",
       "      <td>average</td>\n",
       "    </tr>\n",
       "    <tr>\n",
       "      <th>3</th>\n",
       "      <td>legacy</td>\n",
       "      <td>kate brian</td>\n",
       "      <td>7010</td>\n",
       "      <td>yes</td>\n",
       "      <td>female</td>\n",
       "      <td>fiction</td>\n",
       "      <td>newbie</td>\n",
       "      <td>average</td>\n",
       "    </tr>\n",
       "    <tr>\n",
       "      <th>4</th>\n",
       "      <td>vanished</td>\n",
       "      <td>kate brian</td>\n",
       "      <td>3724</td>\n",
       "      <td>yes</td>\n",
       "      <td>female</td>\n",
       "      <td>fiction</td>\n",
       "      <td>newbie</td>\n",
       "      <td>average</td>\n",
       "    </tr>\n",
       "  </tbody>\n",
       "</table>\n",
       "</div>"
      ],
      "text/plain": [
       "           book      author  rating_count is_volume author_sex genre_category  \\\n",
       "0  inner circle  kate brian          7597       yes     female        fiction   \n",
       "1      ambition  kate brian          6719       yes     female        fiction   \n",
       "2    revelation  kate brian          7431       yes     female        fiction   \n",
       "3        legacy  kate brian          7010       yes     female        fiction   \n",
       "4      vanished  kate brian          3724       yes     female        fiction   \n",
       "\n",
       "  author_exp book_size  \n",
       "0     newbie   average  \n",
       "1     newbie   average  \n",
       "2     newbie   average  \n",
       "3     newbie   average  \n",
       "4     newbie   average  "
      ]
     },
     "execution_count": 9,
     "metadata": {},
     "output_type": "execute_result"
    }
   ],
   "source": [
    "# Drop columns\n",
    "drop_cols = ['page_count','genre','author_work_count','author_avg_rating','author_rating_count']\n",
    "data_1.drop(axis = 1, columns = drop_cols, inplace = True)\n",
    "data_1.head()"
   ]
  },
  {
   "cell_type": "markdown",
   "id": "0c74c00c",
   "metadata": {},
   "source": [
    "#### Data Download"
   ]
  },
  {
   "cell_type": "code",
   "execution_count": 11,
   "id": "e6e1fd8c",
   "metadata": {},
   "outputs": [],
   "source": [
    "# Download merged dataset\n",
    "data.to_csv('master_dataset.csv')"
   ]
  },
  {
   "cell_type": "code",
   "execution_count": null,
   "id": "17bdf157",
   "metadata": {},
   "outputs": [],
   "source": []
  }
 ],
 "metadata": {
  "kernelspec": {
   "display_name": "Python 3",
   "language": "python",
   "name": "python3"
  },
  "language_info": {
   "codemirror_mode": {
    "name": "ipython",
    "version": 3
   },
   "file_extension": ".py",
   "mimetype": "text/x-python",
   "name": "python",
   "nbconvert_exporter": "python",
   "pygments_lexer": "ipython3",
   "version": "3.8.8"
  }
 },
 "nbformat": 4,
 "nbformat_minor": 5
}
