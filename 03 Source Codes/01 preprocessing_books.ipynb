{
 "cells": [
  {
   "cell_type": "markdown",
   "id": "a2d403bf",
   "metadata": {},
   "source": [
    "#### Notebook 1: This Jupyter notebook processes raw books csv data performing basic data cleaning:\n",
    "\n",
    "1. Selecting only desired features (raw/derived)\n",
    "2. String cleaning\n",
    "3. Handling missing values"
   ]
  },
  {
   "cell_type": "code",
   "execution_count": 2,
   "id": "2667b92c",
   "metadata": {},
   "outputs": [
    {
     "name": "stderr",
     "output_type": "stream",
     "text": [
      "<ipython-input-2-f05fcbc0d034>:41: FutureWarning: The default value of regex will change from True to False in a future version.\n",
      "  books[c] = books[c].str.replace(r\" +\", \" \")\n"
     ]
    }
   ],
   "source": [
    "# Import Libraries --------------------------------------------------------------\n",
    "import os\n",
    "import pandas as pd\n",
    "\n",
    "\n",
    "# Load Data (only required columns) ----------------------------------\n",
    "path = \"C:\\\\Users\\\\juhic\\\\OneDrive\\\\Desktop\\\\goodreads_kaggle_books.csv\"\n",
    "books = pd.read_csv(path, usecols = ['title',                       \n",
    "                                   'series',\n",
    "                                   'author',\n",
    "                                   'rating_count',\n",
    "                                   'review_count',\n",
    "                                   'average_rating',\n",
    "                                   'five_star_ratings',\n",
    "                                   'four_star_ratings',\n",
    "                                   'three_star_ratings',\n",
    "                                   'two_star_ratings',\n",
    "                                   'one_star_ratings',\n",
    "                                   'number_of_pages',\n",
    "                                   'date_published',\n",
    "                                   'publisher',\n",
    "                                   'genre_and_votes'])\n",
    "\n",
    "\n",
    "# Rename columns ------------------------------------------------------\n",
    "cols = {'number_of_pages': 'page_count',\n",
    "        'date_published': 'published_year',\n",
    "        'genre_and_votes': 'genre'}\n",
    "books.rename(columns = cols, inplace = True)\n",
    "\n",
    "\n",
    "\n",
    "# String cleaning -----------------------------------------------------\n",
    "cols = ['title','series','author','publisher','genre']\n",
    "\n",
    "# lowercase, strip spaces from ends\n",
    "books[cols] = books[cols].apply(func = lambda x: x.str.lower().str.strip(), axis = 1)\n",
    "\n",
    "# strip spaces in between\n",
    "for c in cols:\n",
    "    books[c] = books[c].str.replace(r\" +\", \" \")\n",
    "\n",
    "    \n",
    "# Author: select single author\n",
    "books['author'] = books['author'].str.split(',', expand = True)[0]\n",
    "\n",
    "# Series: extract alphabetical characters\n",
    "books['series'] = books['series'].str.lstrip('(').str.rstrip(')').str.split('#', expand = True)[0]\n",
    "\n",
    "# Genre: select most voted genre\n",
    "books['genre'] = books['genre'].str.split(',', expand = True)[0].str.rsplit(' ', 1, expand = True)[0]\n",
    "\n",
    "# Published Date: extract year\n",
    "books['published_year'] = books['published_year'].str.extract(r'(\\d{4})')"
   ]
  },
  {
   "cell_type": "code",
   "execution_count": 3,
   "id": "3ee13b1a",
   "metadata": {},
   "outputs": [],
   "source": [
    "# Download intermediate processed books data ---------------------------------------\n",
    "books.to_csv('books_processed.csv')"
   ]
  },
  {
   "cell_type": "markdown",
   "id": "1148b684",
   "metadata": {},
   "source": [
    "#### Handling Missing values (WIP)"
   ]
  },
  {
   "cell_type": "code",
   "execution_count": null,
   "id": "3a11ddb2",
   "metadata": {},
   "outputs": [],
   "source": [
    "# Fill missing values --------------------------------------------------------------\n",
    "cols_categorical = ['series','author','published_year','publisher','genre']\n",
    "cols_numerical = ['rating_count','review_count','average_rating','five_star_ratings','four_star_ratings','three_star_ratings','two_star_ratings','one_star_ratings','page_count']\n",
    "\n",
    "# Step 2: Fillna/Dropna/Impute as needed\n",
    "books[cols_categorical] = books[cols_categorical].fillna('')\n",
    "books[cols_numerical] = books[cols_numerical].fillna(0)\n",
    "\n",
    "\n",
    "# volume flag column depicting if the book is part of a series ---\n",
    "books['volume'] = ['No' if i == '' else 'Yes' for i in books['series']]"
   ]
  },
  {
   "cell_type": "code",
   "execution_count": null,
   "id": "1000bc0f",
   "metadata": {},
   "outputs": [],
   "source": []
  }
 ],
 "metadata": {
  "kernelspec": {
   "display_name": "Python 3",
   "language": "python",
   "name": "python3"
  },
  "language_info": {
   "codemirror_mode": {
    "name": "ipython",
    "version": 3
   },
   "file_extension": ".py",
   "mimetype": "text/x-python",
   "name": "python",
   "nbconvert_exporter": "python",
   "pygments_lexer": "ipython3",
   "version": "3.8.8"
  }
 },
 "nbformat": 4,
 "nbformat_minor": 5
}
