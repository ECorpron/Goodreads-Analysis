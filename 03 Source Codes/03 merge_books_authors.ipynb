{
 "cells": [
  {
   "cell_type": "markdown",
   "id": "f13a05d9",
   "metadata": {},
   "source": [
    "#### Preliminary Master Data\n",
    "\n",
    "This Jupyter notebook merges processed books and authors datasets.\n",
    "\n",
    "*Note: This script must be executed only upon treating null values within the two datasets*"
   ]
  },
  {
   "cell_type": "markdown",
   "id": "60ca2a0e",
   "metadata": {},
   "source": [
    "#### Import Libraries"
   ]
  },
  {
   "cell_type": "code",
   "execution_count": 1,
   "id": "799ed9e2",
   "metadata": {},
   "outputs": [],
   "source": [
    "import os\n",
    "import pandas as pd"
   ]
  },
  {
   "cell_type": "markdown",
   "id": "6fa2dc7a",
   "metadata": {},
   "source": [
    "#### Data Upload"
   ]
  },
  {
   "cell_type": "code",
   "execution_count": 2,
   "id": "cf0b6414",
   "metadata": {},
   "outputs": [],
   "source": [
    "books_path = \"C:\\\\Users\\\\juhic\\\\OneDrive\\\\Desktop\\\\books_processed.csv\"\n",
    "authors_path = \"C:\\\\Users\\\\juhic\\\\OneDrive\\\\Desktop\\\\authors_processed.csv\"\n",
    "books = pd.read_csv(books_path)\n",
    "authors = pd.read_csv(authors_path)\n",
    "\n",
    "books.drop(columns = 'Unnamed: 0', axis = 1, inplace = True)\n",
    "authors.drop(columns = 'Unnamed: 0', axis = 1, inplace = True)"
   ]
  },
  {
   "cell_type": "markdown",
   "id": "f6f0ec55",
   "metadata": {},
   "source": [
    "#### Merge \n",
    "\n",
    "Inner Join to include author information as it is the base analysis feature"
   ]
  },
  {
   "cell_type": "code",
   "execution_count": 3,
   "id": "a8b854d2",
   "metadata": {},
   "outputs": [],
   "source": [
    "data = pd.merge(left = books, right = authors, how = 'inner', on = 'author')"
   ]
  },
  {
   "cell_type": "markdown",
   "id": "7102acb7",
   "metadata": {},
   "source": [
    "#### Data Overview"
   ]
  },
  {
   "cell_type": "code",
   "execution_count": 4,
   "id": "1bee3475",
   "metadata": {},
   "outputs": [
    {
     "name": "stdout",
     "output_type": "stream",
     "text": [
      "<class 'pandas.core.frame.DataFrame'>\n",
      "Int64Index: 35814 entries, 0 to 35813\n",
      "Data columns (total 20 columns):\n",
      " #   Column               Non-Null Count  Dtype  \n",
      "---  ------               --------------  -----  \n",
      " 0   title                35814 non-null  object \n",
      " 1   series               18309 non-null  object \n",
      " 2   author               35814 non-null  object \n",
      " 3   rating_count         35814 non-null  int64  \n",
      " 4   review_count         35814 non-null  int64  \n",
      " 5   average_rating       35814 non-null  float64\n",
      " 6   five_star_ratings    35814 non-null  int64  \n",
      " 7   four_star_ratings    35814 non-null  int64  \n",
      " 8   three_star_ratings   35814 non-null  int64  \n",
      " 9   two_star_ratings     35814 non-null  int64  \n",
      " 10  one_star_ratings     35814 non-null  int64  \n",
      " 11  page_count           35814 non-null  float64\n",
      " 12  published_year       35814 non-null  int64  \n",
      " 13  genre                35814 non-null  object \n",
      " 14  volume               35814 non-null  int64  \n",
      " 15  work_count           35814 non-null  int64  \n",
      " 16  sex                  35814 non-null  object \n",
      " 17  author_avg_rating    35814 non-null  float64\n",
      " 18  author_rating_count  35814 non-null  int64  \n",
      " 19  author_review_count  35814 non-null  int64  \n",
      "dtypes: float64(3), int64(12), object(5)\n",
      "memory usage: 5.7+ MB\n"
     ]
    }
   ],
   "source": [
    "data.info()"
   ]
  },
  {
   "cell_type": "markdown",
   "id": "dcfc94c7",
   "metadata": {},
   "source": [
    "Handle Type Conversions during EDA"
   ]
  },
  {
   "cell_type": "markdown",
   "id": "0c74c00c",
   "metadata": {},
   "source": [
    "#### Data Download"
   ]
  },
  {
   "cell_type": "code",
   "execution_count": 5,
   "id": "e6e1fd8c",
   "metadata": {},
   "outputs": [],
   "source": [
    "# Download merged dataset\n",
    "data.to_csv('master_dataset.csv')"
   ]
  },
  {
   "cell_type": "code",
   "execution_count": null,
   "id": "17bdf157",
   "metadata": {},
   "outputs": [],
   "source": []
  }
 ],
 "metadata": {
  "kernelspec": {
   "display_name": "Python 3",
   "language": "python",
   "name": "python3"
  },
  "language_info": {
   "codemirror_mode": {
    "name": "ipython",
    "version": 3
   },
   "file_extension": ".py",
   "mimetype": "text/x-python",
   "name": "python",
   "nbconvert_exporter": "python",
   "pygments_lexer": "ipython3",
   "version": "3.8.8"
  }
 },
 "nbformat": 4,
 "nbformat_minor": 5
}
