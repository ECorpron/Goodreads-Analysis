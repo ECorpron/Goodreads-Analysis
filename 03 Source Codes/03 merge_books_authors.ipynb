{
 "cells": [
  {
   "cell_type": "markdown",
   "id": "f13a05d9",
   "metadata": {},
   "source": [
    "#### Notebook 3: This Jupyter notebook merges processed books and authors datasets.\n",
    "\n",
    "*Note: This script must be executed only upon treating null values within the two datasets*"
   ]
  },
  {
   "cell_type": "code",
   "execution_count": 10,
   "id": "cf0b6414",
   "metadata": {},
   "outputs": [],
   "source": [
    "# Import Libraries -------------------------------------------------------------------\n",
    "import os\n",
    "import pandas as pd\n",
    "\n",
    "\n",
    "# Load Dataset ------------------------------------------------------------------------\n",
    "books_path = \"C:\\\\Users\\\\juhic\\\\OneDrive\\\\Desktop\\\\books_processed.csv\"\n",
    "authors_path = \"C:\\\\Users\\\\juhic\\\\OneDrive\\\\Desktop\\\\authors_processed.csv\"\n",
    "books = pd.read_csv(books_path)\n",
    "authors = pd.read_csv(authors_path)\n",
    "\n",
    "books.drop(columns = 'Unnamed: 0', axis = 1, inplace = True)\n",
    "authors.drop(columns = 'Unnamed: 0', axis = 1, inplace = True)\n",
    "\n",
    "\n",
    "# Merge Books & Authors (Left Join to keep all books intact) -------------------------\n",
    "data = pd.merge(left = books, right = authors, how = 'left', on = 'author')\n",
    "\n",
    "cols = ['page_count','author_review_count','author_rating_count','work_count']\n",
    "for c in cols:\n",
    "    data.loc[data[c].isna(),c] = 0\n",
    "    data[c] = data[c].astype(int)\n"
   ]
  },
  {
   "cell_type": "code",
   "execution_count": null,
   "id": "e6e1fd8c",
   "metadata": {},
   "outputs": [],
   "source": [
    "# Download merged dataset\n",
    "data.to_csv('master_dataset.csv')"
   ]
  }
 ],
 "metadata": {
  "kernelspec": {
   "display_name": "Python 3",
   "language": "python",
   "name": "python3"
  },
  "language_info": {
   "codemirror_mode": {
    "name": "ipython",
    "version": 3
   },
   "file_extension": ".py",
   "mimetype": "text/x-python",
   "name": "python",
   "nbconvert_exporter": "python",
   "pygments_lexer": "ipython3",
   "version": "3.8.8"
  }
 },
 "nbformat": 4,
 "nbformat_minor": 5
}
